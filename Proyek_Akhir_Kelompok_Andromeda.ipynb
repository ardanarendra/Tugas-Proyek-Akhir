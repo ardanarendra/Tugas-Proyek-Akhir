{
  "nbformat": 4,
  "nbformat_minor": 0,
  "metadata": {
    "colab": {
      "name": "Proyek Akhir Klp Andromeda.ipynb",
      "provenance": [],
      "collapsed_sections": []
    },
    "kernelspec": {
      "name": "python3",
      "display_name": "Python 3"
    },
    "language_info": {
      "name": "python"
    }
  },
  "cells": [
    {
      "cell_type": "markdown",
      "source": [
        "\n",
        "file python untuk tugas Proyek Akhir \n",
        "# Kelompok Andromeda Kelas Aachen (AI Gen-Z) #\n",
        "\n",
        "**Proyek Akhir berbasis penelitian (research-based)**\n",
        "\n",
        "**\"Perbandingan Akurasi Algoritma Linear Regression, Polynomial Regression, dan Support Vector Regression pada Model Sistem Prediksi Harga Rumah\"**"
      ],
      "metadata": {
        "id": "yCD4Loct88LN"
      }
    },
    {
      "cell_type": "markdown",
      "source": [
        "\n",
        "**DATA ACQUISITION**\n",
        "\n",
        "\n",
        "dataset yang digunakan pada penelitian ini didapat dari situs Kaggle.com\n",
        "\n",
        "(https://www.kaggle.com/datasets/wisnuanggara/daftar-harga-rumah)"
      ],
      "metadata": {
        "id": "E5GZxEyy878d"
      }
    },
    {
      "cell_type": "markdown",
      "source": [
        "**PRE-PROCESSING**\n"
      ],
      "metadata": {
        "id": "Y_kZ5_vVeQnt"
      }
    },
    {
      "cell_type": "code",
      "execution_count": null,
      "metadata": {
        "id": "GTbnrhfk23Jz"
      },
      "outputs": [],
      "source": [
        "#import library\n",
        "\n",
        "import pandas as pd\n",
        "import matplotlib.pyplot as plt\n",
        "import numpy as np\n",
        "import seaborn as sns\n"
      ]
    },
    {
      "cell_type": "code",
      "source": [
        "#memanggil dataset dengan kolom yang digunakan\n",
        "df = pd.read_csv('data_harga_rumah.csv', usecols=['NAMA RUMAH', 'HARGA', 'LB', 'LT', 'KT', 'KM', 'GRS'], encoding='latin-1')"
      ],
      "metadata": {
        "id": "SkqxXzPUnvyw"
      },
      "execution_count": null,
      "outputs": []
    },
    {
      "cell_type": "code",
      "source": [
        "#melihat data\n",
        "df"
      ],
      "metadata": {
        "colab": {
          "base_uri": "https://localhost:8080/",
          "height": 424
        },
        "id": "RqKtibou35Lb",
        "outputId": "5e44637b-408d-442d-833e-2530920a7dd2"
      },
      "execution_count": null,
      "outputs": [
        {
          "output_type": "execute_result",
          "data": {
            "text/plain": [
              "                                             NAMA RUMAH        HARGA   LB  \\\n",
              "0     Rumah Murah Hook Tebet Timur, Tebet, Jakarta S...   3800000000  220   \n",
              "1     Rumah Modern di Tebet dekat Stasiun, Tebet, Ja...   4600000000  180   \n",
              "2     Rumah Mewah 2 Lantai Hanya 3 Menit Ke Tebet, T...   3000000000  267   \n",
              "3              Rumah Baru Tebet, Tebet, Jakarta Selatan    430000000   40   \n",
              "4     Rumah Bagus Tebet komp Gudang Peluru lt 350m, ...   9000000000  400   \n",
              "...                                                 ...          ...  ...   \n",
              "1005  Rumah Strategis Akses Jalan 2mobil Di Menteng ...   9000000000  450   \n",
              "1006             Tebet Rumah Siap Huni Jln 2 Mbl Nyaman   4000000000  160   \n",
              "1007        Di Kebun Baru Rumah Terawat, Area Strategis   4000000000  139   \n",
              "1008  Dijual Cepat Rumah Komp Depkeu Dr Soepomo Tebe...  19000000000  360   \n",
              "1009                Dijual Rumah Kokoh Di Gudang Peluru  10500000000  420   \n",
              "\n",
              "       LT  KT  KM  GRS  \n",
              "0     220   3   3    0  \n",
              "1     137   4   3    2  \n",
              "2     250   4   4    4  \n",
              "3      25   2   2    0  \n",
              "4     355   6   5    3  \n",
              "...   ...  ..  ..  ...  \n",
              "1005  550  10  10    3  \n",
              "1006  140   4   3    2  \n",
              "1007  230   4   4    1  \n",
              "1008  606   7   4    0  \n",
              "1009  430   7   4    2  \n",
              "\n",
              "[1010 rows x 7 columns]"
            ],
            "text/html": [
              "\n",
              "  <div id=\"df-7a59ba8a-c36d-45bb-ba01-32adebf4d599\">\n",
              "    <div class=\"colab-df-container\">\n",
              "      <div>\n",
              "<style scoped>\n",
              "    .dataframe tbody tr th:only-of-type {\n",
              "        vertical-align: middle;\n",
              "    }\n",
              "\n",
              "    .dataframe tbody tr th {\n",
              "        vertical-align: top;\n",
              "    }\n",
              "\n",
              "    .dataframe thead th {\n",
              "        text-align: right;\n",
              "    }\n",
              "</style>\n",
              "<table border=\"1\" class=\"dataframe\">\n",
              "  <thead>\n",
              "    <tr style=\"text-align: right;\">\n",
              "      <th></th>\n",
              "      <th>NAMA RUMAH</th>\n",
              "      <th>HARGA</th>\n",
              "      <th>LB</th>\n",
              "      <th>LT</th>\n",
              "      <th>KT</th>\n",
              "      <th>KM</th>\n",
              "      <th>GRS</th>\n",
              "    </tr>\n",
              "  </thead>\n",
              "  <tbody>\n",
              "    <tr>\n",
              "      <th>0</th>\n",
              "      <td>Rumah Murah Hook Tebet Timur, Tebet, Jakarta S...</td>\n",
              "      <td>3800000000</td>\n",
              "      <td>220</td>\n",
              "      <td>220</td>\n",
              "      <td>3</td>\n",
              "      <td>3</td>\n",
              "      <td>0</td>\n",
              "    </tr>\n",
              "    <tr>\n",
              "      <th>1</th>\n",
              "      <td>Rumah Modern di Tebet dekat Stasiun, Tebet, Ja...</td>\n",
              "      <td>4600000000</td>\n",
              "      <td>180</td>\n",
              "      <td>137</td>\n",
              "      <td>4</td>\n",
              "      <td>3</td>\n",
              "      <td>2</td>\n",
              "    </tr>\n",
              "    <tr>\n",
              "      <th>2</th>\n",
              "      <td>Rumah Mewah 2 Lantai Hanya 3 Menit Ke Tebet, T...</td>\n",
              "      <td>3000000000</td>\n",
              "      <td>267</td>\n",
              "      <td>250</td>\n",
              "      <td>4</td>\n",
              "      <td>4</td>\n",
              "      <td>4</td>\n",
              "    </tr>\n",
              "    <tr>\n",
              "      <th>3</th>\n",
              "      <td>Rumah Baru Tebet, Tebet, Jakarta Selatan</td>\n",
              "      <td>430000000</td>\n",
              "      <td>40</td>\n",
              "      <td>25</td>\n",
              "      <td>2</td>\n",
              "      <td>2</td>\n",
              "      <td>0</td>\n",
              "    </tr>\n",
              "    <tr>\n",
              "      <th>4</th>\n",
              "      <td>Rumah Bagus Tebet komp Gudang Peluru lt 350m, ...</td>\n",
              "      <td>9000000000</td>\n",
              "      <td>400</td>\n",
              "      <td>355</td>\n",
              "      <td>6</td>\n",
              "      <td>5</td>\n",
              "      <td>3</td>\n",
              "    </tr>\n",
              "    <tr>\n",
              "      <th>...</th>\n",
              "      <td>...</td>\n",
              "      <td>...</td>\n",
              "      <td>...</td>\n",
              "      <td>...</td>\n",
              "      <td>...</td>\n",
              "      <td>...</td>\n",
              "      <td>...</td>\n",
              "    </tr>\n",
              "    <tr>\n",
              "      <th>1005</th>\n",
              "      <td>Rumah Strategis Akses Jalan 2mobil Di Menteng ...</td>\n",
              "      <td>9000000000</td>\n",
              "      <td>450</td>\n",
              "      <td>550</td>\n",
              "      <td>10</td>\n",
              "      <td>10</td>\n",
              "      <td>3</td>\n",
              "    </tr>\n",
              "    <tr>\n",
              "      <th>1006</th>\n",
              "      <td>Tebet Rumah Siap Huni Jln 2 Mbl Nyaman</td>\n",
              "      <td>4000000000</td>\n",
              "      <td>160</td>\n",
              "      <td>140</td>\n",
              "      <td>4</td>\n",
              "      <td>3</td>\n",
              "      <td>2</td>\n",
              "    </tr>\n",
              "    <tr>\n",
              "      <th>1007</th>\n",
              "      <td>Di Kebun Baru Rumah Terawat, Area Strategis</td>\n",
              "      <td>4000000000</td>\n",
              "      <td>139</td>\n",
              "      <td>230</td>\n",
              "      <td>4</td>\n",
              "      <td>4</td>\n",
              "      <td>1</td>\n",
              "    </tr>\n",
              "    <tr>\n",
              "      <th>1008</th>\n",
              "      <td>Dijual Cepat Rumah Komp Depkeu Dr Soepomo Tebe...</td>\n",
              "      <td>19000000000</td>\n",
              "      <td>360</td>\n",
              "      <td>606</td>\n",
              "      <td>7</td>\n",
              "      <td>4</td>\n",
              "      <td>0</td>\n",
              "    </tr>\n",
              "    <tr>\n",
              "      <th>1009</th>\n",
              "      <td>Dijual Rumah Kokoh Di Gudang Peluru</td>\n",
              "      <td>10500000000</td>\n",
              "      <td>420</td>\n",
              "      <td>430</td>\n",
              "      <td>7</td>\n",
              "      <td>4</td>\n",
              "      <td>2</td>\n",
              "    </tr>\n",
              "  </tbody>\n",
              "</table>\n",
              "<p>1010 rows × 7 columns</p>\n",
              "</div>\n",
              "      <button class=\"colab-df-convert\" onclick=\"convertToInteractive('df-7a59ba8a-c36d-45bb-ba01-32adebf4d599')\"\n",
              "              title=\"Convert this dataframe to an interactive table.\"\n",
              "              style=\"display:none;\">\n",
              "        \n",
              "  <svg xmlns=\"http://www.w3.org/2000/svg\" height=\"24px\"viewBox=\"0 0 24 24\"\n",
              "       width=\"24px\">\n",
              "    <path d=\"M0 0h24v24H0V0z\" fill=\"none\"/>\n",
              "    <path d=\"M18.56 5.44l.94 2.06.94-2.06 2.06-.94-2.06-.94-.94-2.06-.94 2.06-2.06.94zm-11 1L8.5 8.5l.94-2.06 2.06-.94-2.06-.94L8.5 2.5l-.94 2.06-2.06.94zm10 10l.94 2.06.94-2.06 2.06-.94-2.06-.94-.94-2.06-.94 2.06-2.06.94z\"/><path d=\"M17.41 7.96l-1.37-1.37c-.4-.4-.92-.59-1.43-.59-.52 0-1.04.2-1.43.59L10.3 9.45l-7.72 7.72c-.78.78-.78 2.05 0 2.83L4 21.41c.39.39.9.59 1.41.59.51 0 1.02-.2 1.41-.59l7.78-7.78 2.81-2.81c.8-.78.8-2.07 0-2.86zM5.41 20L4 18.59l7.72-7.72 1.47 1.35L5.41 20z\"/>\n",
              "  </svg>\n",
              "      </button>\n",
              "      \n",
              "  <style>\n",
              "    .colab-df-container {\n",
              "      display:flex;\n",
              "      flex-wrap:wrap;\n",
              "      gap: 12px;\n",
              "    }\n",
              "\n",
              "    .colab-df-convert {\n",
              "      background-color: #E8F0FE;\n",
              "      border: none;\n",
              "      border-radius: 50%;\n",
              "      cursor: pointer;\n",
              "      display: none;\n",
              "      fill: #1967D2;\n",
              "      height: 32px;\n",
              "      padding: 0 0 0 0;\n",
              "      width: 32px;\n",
              "    }\n",
              "\n",
              "    .colab-df-convert:hover {\n",
              "      background-color: #E2EBFA;\n",
              "      box-shadow: 0px 1px 2px rgba(60, 64, 67, 0.3), 0px 1px 3px 1px rgba(60, 64, 67, 0.15);\n",
              "      fill: #174EA6;\n",
              "    }\n",
              "\n",
              "    [theme=dark] .colab-df-convert {\n",
              "      background-color: #3B4455;\n",
              "      fill: #D2E3FC;\n",
              "    }\n",
              "\n",
              "    [theme=dark] .colab-df-convert:hover {\n",
              "      background-color: #434B5C;\n",
              "      box-shadow: 0px 1px 3px 1px rgba(0, 0, 0, 0.15);\n",
              "      filter: drop-shadow(0px 1px 2px rgba(0, 0, 0, 0.3));\n",
              "      fill: #FFFFFF;\n",
              "    }\n",
              "  </style>\n",
              "\n",
              "      <script>\n",
              "        const buttonEl =\n",
              "          document.querySelector('#df-7a59ba8a-c36d-45bb-ba01-32adebf4d599 button.colab-df-convert');\n",
              "        buttonEl.style.display =\n",
              "          google.colab.kernel.accessAllowed ? 'block' : 'none';\n",
              "\n",
              "        async function convertToInteractive(key) {\n",
              "          const element = document.querySelector('#df-7a59ba8a-c36d-45bb-ba01-32adebf4d599');\n",
              "          const dataTable =\n",
              "            await google.colab.kernel.invokeFunction('convertToInteractive',\n",
              "                                                     [key], {});\n",
              "          if (!dataTable) return;\n",
              "\n",
              "          const docLinkHtml = 'Like what you see? Visit the ' +\n",
              "            '<a target=\"_blank\" href=https://colab.research.google.com/notebooks/data_table.ipynb>data table notebook</a>'\n",
              "            + ' to learn more about interactive tables.';\n",
              "          element.innerHTML = '';\n",
              "          dataTable['output_type'] = 'display_data';\n",
              "          await google.colab.output.renderOutput(dataTable, element);\n",
              "          const docLink = document.createElement('div');\n",
              "          docLink.innerHTML = docLinkHtml;\n",
              "          element.appendChild(docLink);\n",
              "        }\n",
              "      </script>\n",
              "    </div>\n",
              "  </div>\n",
              "  "
            ]
          },
          "metadata": {},
          "execution_count": 8
        }
      ]
    },
    {
      "cell_type": "markdown",
      "source": [
        "keterangan:\n",
        "  * NAMA RUMAH = Nama rumah dan alamat\n",
        "  * HARGA = Harga rumah dalam rupiah\n",
        "  * LB = Luas bangunan\n",
        "  * LT = Luas tanah\n",
        "  * KT = Jumlah kamar tidur\n",
        "  * KM = Jumlah kamar mandi\n",
        "  * GRS = Kapasitas garasi"
      ],
      "metadata": {
        "id": "bultovfoe1Bm"
      }
    },
    {
      "cell_type": "code",
      "source": [
        "#keterangan jumlah dari kolom dan baris pada data\n",
        "df.shape"
      ],
      "metadata": {
        "colab": {
          "base_uri": "https://localhost:8080/"
        },
        "id": "qxMJmEhBfV1i",
        "outputId": "8e734bb7-8039-4a01-cd93-98f8b5843129"
      },
      "execution_count": null,
      "outputs": [
        {
          "output_type": "execute_result",
          "data": {
            "text/plain": [
              "(1010, 7)"
            ]
          },
          "metadata": {},
          "execution_count": 4
        }
      ]
    },
    {
      "cell_type": "code",
      "source": [
        "#informasi mengenai jumlah dan tipe data\n",
        "df.info()"
      ],
      "metadata": {
        "colab": {
          "base_uri": "https://localhost:8080/"
        },
        "id": "6hXnU2gH4OIg",
        "outputId": "63c9060d-a2d1-4669-ace2-b9c41e2b3f59"
      },
      "execution_count": null,
      "outputs": [
        {
          "output_type": "stream",
          "name": "stdout",
          "text": [
            "<class 'pandas.core.frame.DataFrame'>\n",
            "RangeIndex: 1010 entries, 0 to 1009\n",
            "Data columns (total 7 columns):\n",
            " #   Column      Non-Null Count  Dtype \n",
            "---  ------      --------------  ----- \n",
            " 0   NAMA RUMAH  1010 non-null   object\n",
            " 1   HARGA       1010 non-null   int64 \n",
            " 2   LB          1010 non-null   int64 \n",
            " 3   LT          1010 non-null   int64 \n",
            " 4   KT          1010 non-null   int64 \n",
            " 5   KM          1010 non-null   int64 \n",
            " 6   GRS         1010 non-null   int64 \n",
            "dtypes: int64(6), object(1)\n",
            "memory usage: 55.4+ KB\n"
          ]
        }
      ]
    },
    {
      "cell_type": "code",
      "source": [
        "#deskripsi statistik mengenai data\n",
        "df.describe()"
      ],
      "metadata": {
        "colab": {
          "base_uri": "https://localhost:8080/",
          "height": 300
        },
        "id": "j2ov0MM94OLS",
        "outputId": "4717eda9-fd34-4276-e93f-7aaccca828c9"
      },
      "execution_count": null,
      "outputs": [
        {
          "output_type": "execute_result",
          "data": {
            "text/plain": [
              "              HARGA           LB           LT           KT           KM  \\\n",
              "count  1.010000e+03  1010.000000  1010.000000  1010.000000  1010.000000   \n",
              "mean   7.628987e+09   276.539604   237.432673     4.668317     3.607921   \n",
              "std    7.340946e+09   177.864557   179.957604     1.572776     1.420066   \n",
              "min    4.300000e+08    40.000000    25.000000     2.000000     1.000000   \n",
              "25%    3.262500e+09   150.000000   130.000000     4.000000     3.000000   \n",
              "50%    5.000000e+09   216.500000   165.000000     4.000000     3.000000   \n",
              "75%    9.000000e+09   350.000000   290.000000     5.000000     4.000000   \n",
              "max    6.500000e+10  1126.000000  1400.000000    10.000000    10.000000   \n",
              "\n",
              "               GRS  \n",
              "count  1010.000000  \n",
              "mean      1.920792  \n",
              "std       1.510998  \n",
              "min       0.000000  \n",
              "25%       1.000000  \n",
              "50%       2.000000  \n",
              "75%       2.000000  \n",
              "max      10.000000  "
            ],
            "text/html": [
              "\n",
              "  <div id=\"df-649c969f-51bb-42ee-b3f3-e485a1464c3f\">\n",
              "    <div class=\"colab-df-container\">\n",
              "      <div>\n",
              "<style scoped>\n",
              "    .dataframe tbody tr th:only-of-type {\n",
              "        vertical-align: middle;\n",
              "    }\n",
              "\n",
              "    .dataframe tbody tr th {\n",
              "        vertical-align: top;\n",
              "    }\n",
              "\n",
              "    .dataframe thead th {\n",
              "        text-align: right;\n",
              "    }\n",
              "</style>\n",
              "<table border=\"1\" class=\"dataframe\">\n",
              "  <thead>\n",
              "    <tr style=\"text-align: right;\">\n",
              "      <th></th>\n",
              "      <th>HARGA</th>\n",
              "      <th>LB</th>\n",
              "      <th>LT</th>\n",
              "      <th>KT</th>\n",
              "      <th>KM</th>\n",
              "      <th>GRS</th>\n",
              "    </tr>\n",
              "  </thead>\n",
              "  <tbody>\n",
              "    <tr>\n",
              "      <th>count</th>\n",
              "      <td>1.010000e+03</td>\n",
              "      <td>1010.000000</td>\n",
              "      <td>1010.000000</td>\n",
              "      <td>1010.000000</td>\n",
              "      <td>1010.000000</td>\n",
              "      <td>1010.000000</td>\n",
              "    </tr>\n",
              "    <tr>\n",
              "      <th>mean</th>\n",
              "      <td>7.628987e+09</td>\n",
              "      <td>276.539604</td>\n",
              "      <td>237.432673</td>\n",
              "      <td>4.668317</td>\n",
              "      <td>3.607921</td>\n",
              "      <td>1.920792</td>\n",
              "    </tr>\n",
              "    <tr>\n",
              "      <th>std</th>\n",
              "      <td>7.340946e+09</td>\n",
              "      <td>177.864557</td>\n",
              "      <td>179.957604</td>\n",
              "      <td>1.572776</td>\n",
              "      <td>1.420066</td>\n",
              "      <td>1.510998</td>\n",
              "    </tr>\n",
              "    <tr>\n",
              "      <th>min</th>\n",
              "      <td>4.300000e+08</td>\n",
              "      <td>40.000000</td>\n",
              "      <td>25.000000</td>\n",
              "      <td>2.000000</td>\n",
              "      <td>1.000000</td>\n",
              "      <td>0.000000</td>\n",
              "    </tr>\n",
              "    <tr>\n",
              "      <th>25%</th>\n",
              "      <td>3.262500e+09</td>\n",
              "      <td>150.000000</td>\n",
              "      <td>130.000000</td>\n",
              "      <td>4.000000</td>\n",
              "      <td>3.000000</td>\n",
              "      <td>1.000000</td>\n",
              "    </tr>\n",
              "    <tr>\n",
              "      <th>50%</th>\n",
              "      <td>5.000000e+09</td>\n",
              "      <td>216.500000</td>\n",
              "      <td>165.000000</td>\n",
              "      <td>4.000000</td>\n",
              "      <td>3.000000</td>\n",
              "      <td>2.000000</td>\n",
              "    </tr>\n",
              "    <tr>\n",
              "      <th>75%</th>\n",
              "      <td>9.000000e+09</td>\n",
              "      <td>350.000000</td>\n",
              "      <td>290.000000</td>\n",
              "      <td>5.000000</td>\n",
              "      <td>4.000000</td>\n",
              "      <td>2.000000</td>\n",
              "    </tr>\n",
              "    <tr>\n",
              "      <th>max</th>\n",
              "      <td>6.500000e+10</td>\n",
              "      <td>1126.000000</td>\n",
              "      <td>1400.000000</td>\n",
              "      <td>10.000000</td>\n",
              "      <td>10.000000</td>\n",
              "      <td>10.000000</td>\n",
              "    </tr>\n",
              "  </tbody>\n",
              "</table>\n",
              "</div>\n",
              "      <button class=\"colab-df-convert\" onclick=\"convertToInteractive('df-649c969f-51bb-42ee-b3f3-e485a1464c3f')\"\n",
              "              title=\"Convert this dataframe to an interactive table.\"\n",
              "              style=\"display:none;\">\n",
              "        \n",
              "  <svg xmlns=\"http://www.w3.org/2000/svg\" height=\"24px\"viewBox=\"0 0 24 24\"\n",
              "       width=\"24px\">\n",
              "    <path d=\"M0 0h24v24H0V0z\" fill=\"none\"/>\n",
              "    <path d=\"M18.56 5.44l.94 2.06.94-2.06 2.06-.94-2.06-.94-.94-2.06-.94 2.06-2.06.94zm-11 1L8.5 8.5l.94-2.06 2.06-.94-2.06-.94L8.5 2.5l-.94 2.06-2.06.94zm10 10l.94 2.06.94-2.06 2.06-.94-2.06-.94-.94-2.06-.94 2.06-2.06.94z\"/><path d=\"M17.41 7.96l-1.37-1.37c-.4-.4-.92-.59-1.43-.59-.52 0-1.04.2-1.43.59L10.3 9.45l-7.72 7.72c-.78.78-.78 2.05 0 2.83L4 21.41c.39.39.9.59 1.41.59.51 0 1.02-.2 1.41-.59l7.78-7.78 2.81-2.81c.8-.78.8-2.07 0-2.86zM5.41 20L4 18.59l7.72-7.72 1.47 1.35L5.41 20z\"/>\n",
              "  </svg>\n",
              "      </button>\n",
              "      \n",
              "  <style>\n",
              "    .colab-df-container {\n",
              "      display:flex;\n",
              "      flex-wrap:wrap;\n",
              "      gap: 12px;\n",
              "    }\n",
              "\n",
              "    .colab-df-convert {\n",
              "      background-color: #E8F0FE;\n",
              "      border: none;\n",
              "      border-radius: 50%;\n",
              "      cursor: pointer;\n",
              "      display: none;\n",
              "      fill: #1967D2;\n",
              "      height: 32px;\n",
              "      padding: 0 0 0 0;\n",
              "      width: 32px;\n",
              "    }\n",
              "\n",
              "    .colab-df-convert:hover {\n",
              "      background-color: #E2EBFA;\n",
              "      box-shadow: 0px 1px 2px rgba(60, 64, 67, 0.3), 0px 1px 3px 1px rgba(60, 64, 67, 0.15);\n",
              "      fill: #174EA6;\n",
              "    }\n",
              "\n",
              "    [theme=dark] .colab-df-convert {\n",
              "      background-color: #3B4455;\n",
              "      fill: #D2E3FC;\n",
              "    }\n",
              "\n",
              "    [theme=dark] .colab-df-convert:hover {\n",
              "      background-color: #434B5C;\n",
              "      box-shadow: 0px 1px 3px 1px rgba(0, 0, 0, 0.15);\n",
              "      filter: drop-shadow(0px 1px 2px rgba(0, 0, 0, 0.3));\n",
              "      fill: #FFFFFF;\n",
              "    }\n",
              "  </style>\n",
              "\n",
              "      <script>\n",
              "        const buttonEl =\n",
              "          document.querySelector('#df-649c969f-51bb-42ee-b3f3-e485a1464c3f button.colab-df-convert');\n",
              "        buttonEl.style.display =\n",
              "          google.colab.kernel.accessAllowed ? 'block' : 'none';\n",
              "\n",
              "        async function convertToInteractive(key) {\n",
              "          const element = document.querySelector('#df-649c969f-51bb-42ee-b3f3-e485a1464c3f');\n",
              "          const dataTable =\n",
              "            await google.colab.kernel.invokeFunction('convertToInteractive',\n",
              "                                                     [key], {});\n",
              "          if (!dataTable) return;\n",
              "\n",
              "          const docLinkHtml = 'Like what you see? Visit the ' +\n",
              "            '<a target=\"_blank\" href=https://colab.research.google.com/notebooks/data_table.ipynb>data table notebook</a>'\n",
              "            + ' to learn more about interactive tables.';\n",
              "          element.innerHTML = '';\n",
              "          dataTable['output_type'] = 'display_data';\n",
              "          await google.colab.output.renderOutput(dataTable, element);\n",
              "          const docLink = document.createElement('div');\n",
              "          docLink.innerHTML = docLinkHtml;\n",
              "          element.appendChild(docLink);\n",
              "        }\n",
              "      </script>\n",
              "    </div>\n",
              "  </div>\n",
              "  "
            ]
          },
          "metadata": {},
          "execution_count": 6
        }
      ]
    },
    {
      "cell_type": "code",
      "source": [
        "#mencari missing value\n",
        "df.isnull().sum()"
      ],
      "metadata": {
        "colab": {
          "base_uri": "https://localhost:8080/"
        },
        "id": "Ts2PXaRRHVcg",
        "outputId": "d8677763-ed68-464e-9b1a-4176044330a0"
      },
      "execution_count": null,
      "outputs": [
        {
          "output_type": "execute_result",
          "data": {
            "text/plain": [
              "NAMA RUMAH    0\n",
              "HARGA         0\n",
              "LB            0\n",
              "LT            0\n",
              "KT            0\n",
              "KM            0\n",
              "GRS           0\n",
              "dtype: int64"
            ]
          },
          "metadata": {},
          "execution_count": 7
        }
      ]
    },
    {
      "cell_type": "code",
      "source": [
        "df.head()"
      ],
      "metadata": {
        "colab": {
          "base_uri": "https://localhost:8080/",
          "height": 206
        },
        "id": "9lFGOBPk64Nb",
        "outputId": "12acf2eb-0286-4b3a-9e00-8d321b70f8b2"
      },
      "execution_count": null,
      "outputs": [
        {
          "output_type": "execute_result",
          "data": {
            "text/plain": [
              "                                          NAMA RUMAH       HARGA   LB   LT  \\\n",
              "0  Rumah Murah Hook Tebet Timur, Tebet, Jakarta S...  3800000000  220  220   \n",
              "1  Rumah Modern di Tebet dekat Stasiun, Tebet, Ja...  4600000000  180  137   \n",
              "2  Rumah Mewah 2 Lantai Hanya 3 Menit Ke Tebet, T...  3000000000  267  250   \n",
              "3           Rumah Baru Tebet, Tebet, Jakarta Selatan   430000000   40   25   \n",
              "4  Rumah Bagus Tebet komp Gudang Peluru lt 350m, ...  9000000000  400  355   \n",
              "\n",
              "   KT  KM  GRS  \n",
              "0   3   3    0  \n",
              "1   4   3    2  \n",
              "2   4   4    4  \n",
              "3   2   2    0  \n",
              "4   6   5    3  "
            ],
            "text/html": [
              "\n",
              "  <div id=\"df-e2df1658-1edd-4cba-905e-6f10bbaf7bed\">\n",
              "    <div class=\"colab-df-container\">\n",
              "      <div>\n",
              "<style scoped>\n",
              "    .dataframe tbody tr th:only-of-type {\n",
              "        vertical-align: middle;\n",
              "    }\n",
              "\n",
              "    .dataframe tbody tr th {\n",
              "        vertical-align: top;\n",
              "    }\n",
              "\n",
              "    .dataframe thead th {\n",
              "        text-align: right;\n",
              "    }\n",
              "</style>\n",
              "<table border=\"1\" class=\"dataframe\">\n",
              "  <thead>\n",
              "    <tr style=\"text-align: right;\">\n",
              "      <th></th>\n",
              "      <th>NAMA RUMAH</th>\n",
              "      <th>HARGA</th>\n",
              "      <th>LB</th>\n",
              "      <th>LT</th>\n",
              "      <th>KT</th>\n",
              "      <th>KM</th>\n",
              "      <th>GRS</th>\n",
              "    </tr>\n",
              "  </thead>\n",
              "  <tbody>\n",
              "    <tr>\n",
              "      <th>0</th>\n",
              "      <td>Rumah Murah Hook Tebet Timur, Tebet, Jakarta S...</td>\n",
              "      <td>3800000000</td>\n",
              "      <td>220</td>\n",
              "      <td>220</td>\n",
              "      <td>3</td>\n",
              "      <td>3</td>\n",
              "      <td>0</td>\n",
              "    </tr>\n",
              "    <tr>\n",
              "      <th>1</th>\n",
              "      <td>Rumah Modern di Tebet dekat Stasiun, Tebet, Ja...</td>\n",
              "      <td>4600000000</td>\n",
              "      <td>180</td>\n",
              "      <td>137</td>\n",
              "      <td>4</td>\n",
              "      <td>3</td>\n",
              "      <td>2</td>\n",
              "    </tr>\n",
              "    <tr>\n",
              "      <th>2</th>\n",
              "      <td>Rumah Mewah 2 Lantai Hanya 3 Menit Ke Tebet, T...</td>\n",
              "      <td>3000000000</td>\n",
              "      <td>267</td>\n",
              "      <td>250</td>\n",
              "      <td>4</td>\n",
              "      <td>4</td>\n",
              "      <td>4</td>\n",
              "    </tr>\n",
              "    <tr>\n",
              "      <th>3</th>\n",
              "      <td>Rumah Baru Tebet, Tebet, Jakarta Selatan</td>\n",
              "      <td>430000000</td>\n",
              "      <td>40</td>\n",
              "      <td>25</td>\n",
              "      <td>2</td>\n",
              "      <td>2</td>\n",
              "      <td>0</td>\n",
              "    </tr>\n",
              "    <tr>\n",
              "      <th>4</th>\n",
              "      <td>Rumah Bagus Tebet komp Gudang Peluru lt 350m, ...</td>\n",
              "      <td>9000000000</td>\n",
              "      <td>400</td>\n",
              "      <td>355</td>\n",
              "      <td>6</td>\n",
              "      <td>5</td>\n",
              "      <td>3</td>\n",
              "    </tr>\n",
              "  </tbody>\n",
              "</table>\n",
              "</div>\n",
              "      <button class=\"colab-df-convert\" onclick=\"convertToInteractive('df-e2df1658-1edd-4cba-905e-6f10bbaf7bed')\"\n",
              "              title=\"Convert this dataframe to an interactive table.\"\n",
              "              style=\"display:none;\">\n",
              "        \n",
              "  <svg xmlns=\"http://www.w3.org/2000/svg\" height=\"24px\"viewBox=\"0 0 24 24\"\n",
              "       width=\"24px\">\n",
              "    <path d=\"M0 0h24v24H0V0z\" fill=\"none\"/>\n",
              "    <path d=\"M18.56 5.44l.94 2.06.94-2.06 2.06-.94-2.06-.94-.94-2.06-.94 2.06-2.06.94zm-11 1L8.5 8.5l.94-2.06 2.06-.94-2.06-.94L8.5 2.5l-.94 2.06-2.06.94zm10 10l.94 2.06.94-2.06 2.06-.94-2.06-.94-.94-2.06-.94 2.06-2.06.94z\"/><path d=\"M17.41 7.96l-1.37-1.37c-.4-.4-.92-.59-1.43-.59-.52 0-1.04.2-1.43.59L10.3 9.45l-7.72 7.72c-.78.78-.78 2.05 0 2.83L4 21.41c.39.39.9.59 1.41.59.51 0 1.02-.2 1.41-.59l7.78-7.78 2.81-2.81c.8-.78.8-2.07 0-2.86zM5.41 20L4 18.59l7.72-7.72 1.47 1.35L5.41 20z\"/>\n",
              "  </svg>\n",
              "      </button>\n",
              "      \n",
              "  <style>\n",
              "    .colab-df-container {\n",
              "      display:flex;\n",
              "      flex-wrap:wrap;\n",
              "      gap: 12px;\n",
              "    }\n",
              "\n",
              "    .colab-df-convert {\n",
              "      background-color: #E8F0FE;\n",
              "      border: none;\n",
              "      border-radius: 50%;\n",
              "      cursor: pointer;\n",
              "      display: none;\n",
              "      fill: #1967D2;\n",
              "      height: 32px;\n",
              "      padding: 0 0 0 0;\n",
              "      width: 32px;\n",
              "    }\n",
              "\n",
              "    .colab-df-convert:hover {\n",
              "      background-color: #E2EBFA;\n",
              "      box-shadow: 0px 1px 2px rgba(60, 64, 67, 0.3), 0px 1px 3px 1px rgba(60, 64, 67, 0.15);\n",
              "      fill: #174EA6;\n",
              "    }\n",
              "\n",
              "    [theme=dark] .colab-df-convert {\n",
              "      background-color: #3B4455;\n",
              "      fill: #D2E3FC;\n",
              "    }\n",
              "\n",
              "    [theme=dark] .colab-df-convert:hover {\n",
              "      background-color: #434B5C;\n",
              "      box-shadow: 0px 1px 3px 1px rgba(0, 0, 0, 0.15);\n",
              "      filter: drop-shadow(0px 1px 2px rgba(0, 0, 0, 0.3));\n",
              "      fill: #FFFFFF;\n",
              "    }\n",
              "  </style>\n",
              "\n",
              "      <script>\n",
              "        const buttonEl =\n",
              "          document.querySelector('#df-e2df1658-1edd-4cba-905e-6f10bbaf7bed button.colab-df-convert');\n",
              "        buttonEl.style.display =\n",
              "          google.colab.kernel.accessAllowed ? 'block' : 'none';\n",
              "\n",
              "        async function convertToInteractive(key) {\n",
              "          const element = document.querySelector('#df-e2df1658-1edd-4cba-905e-6f10bbaf7bed');\n",
              "          const dataTable =\n",
              "            await google.colab.kernel.invokeFunction('convertToInteractive',\n",
              "                                                     [key], {});\n",
              "          if (!dataTable) return;\n",
              "\n",
              "          const docLinkHtml = 'Like what you see? Visit the ' +\n",
              "            '<a target=\"_blank\" href=https://colab.research.google.com/notebooks/data_table.ipynb>data table notebook</a>'\n",
              "            + ' to learn more about interactive tables.';\n",
              "          element.innerHTML = '';\n",
              "          dataTable['output_type'] = 'display_data';\n",
              "          await google.colab.output.renderOutput(dataTable, element);\n",
              "          const docLink = document.createElement('div');\n",
              "          docLink.innerHTML = docLinkHtml;\n",
              "          element.appendChild(docLink);\n",
              "        }\n",
              "      </script>\n",
              "    </div>\n",
              "  </div>\n",
              "  "
            ]
          },
          "metadata": {},
          "execution_count": 8
        }
      ]
    },
    {
      "cell_type": "code",
      "source": [
        ""
      ],
      "metadata": {
        "id": "VtzYngF0g0rJ"
      },
      "execution_count": null,
      "outputs": []
    },
    {
      "cell_type": "markdown",
      "source": [
        "**DISTRIBUSI DATA** "
      ],
      "metadata": {
        "id": "qoG_PpnpfzTk"
      }
    },
    {
      "cell_type": "code",
      "source": [
        "#distribusi kamar tidur\n",
        "f= plt.figure(figsize=(12,4))\n",
        "\n",
        "f.add_subplot(1,2,1)\n",
        "sns.countplot(df['KT'])\n",
        "\n",
        "f.add_subplot(1,2,2)\n",
        "plt.boxplot(df['KT'])\n",
        "plt.show()"
      ],
      "metadata": {
        "colab": {
          "base_uri": "https://localhost:8080/",
          "height": 329
        },
        "id": "Bj5MsMQVf5L9",
        "outputId": "0a9d3077-420e-4496-a517-99e0bc26bc8e"
      },
      "execution_count": null,
      "outputs": [
        {
          "output_type": "stream",
          "name": "stderr",
          "text": [
            "/usr/local/lib/python3.7/dist-packages/seaborn/_decorators.py:43: FutureWarning: Pass the following variable as a keyword arg: x. From version 0.12, the only valid positional argument will be `data`, and passing other arguments without an explicit keyword will result in an error or misinterpretation.\n",
            "  FutureWarning\n"
          ]
        },
        {
          "output_type": "display_data",
          "data": {
            "text/plain": [
              "<Figure size 864x288 with 2 Axes>"
            ],
            "image/png": "[encoded data removed]"
          },
          "metadata": {
            "needs_background": "light"
          }
        }
      ]
    },
    {
      "cell_type": "code",
      "source": [
        "#distribusi kamar mandi \n",
        "f= plt.figure(figsize=(12,4))\n",
        "\n",
        "f.add_subplot(1,2,1)\n",
        "sns.countplot(df['KM'])\n",
        "\n",
        "f.add_subplot(1,2,2)\n",
        "plt.boxplot(df['KM'])\n",
        "plt.show()"
      ],
      "metadata": {
        "colab": {
          "base_uri": "https://localhost:8080/",
          "height": 329
        },
        "id": "JoMPPIdQgPNt",
        "outputId": "2374bf44-9415-4b47-a202-375715f6253a"
      },
      "execution_count": null,
      "outputs": [
        {
          "output_type": "stream",
          "name": "stderr",
          "text": [
            "/usr/local/lib/python3.7/dist-packages/seaborn/_decorators.py:43: FutureWarning: Pass the following variable as a keyword arg: x. From version 0.12, the only valid positional argument will be `data`, and passing other arguments without an explicit keyword will result in an error or misinterpretation.\n",
            "  FutureWarning\n"
          ]
        },
        {
          "output_type": "display_data",
          "data": {
            "text/plain": [
              "<Figure size 864x288 with 2 Axes>"
            ],
            "image/png": "[encoded data removed]"
          },
          "metadata": {
            "needs_background": "light"
          }
        }
      ]
    },
    {
      "cell_type": "code",
      "source": [
        "#distribusi luas bangunan\n",
        "f= plt.figure(figsize=(12,4))\n",
        "\n",
        "f.add_subplot(1,2,1)\n",
        "df['LB'].plot(kind='kde')\n",
        "\n",
        "f.add_subplot(1,2,2)\n",
        "plt.boxplot(df['LB'])\n",
        "plt.show()"
      ],
      "metadata": {
        "colab": {
          "base_uri": "https://localhost:8080/",
          "height": 255
        },
        "id": "owyB83ebgPUz",
        "outputId": "d43cb247-a044-47a7-8d68-d885760e1ec6"
      },
      "execution_count": null,
      "outputs": [
        {
          "output_type": "display_data",
          "data": {
            "text/plain": [
              "<Figure size 864x288 with 2 Axes>"
            ],
            "image/png": "[encoded data removed]"
          },
          "metadata": {
            "needs_background": "light"
          }
        }
      ]
    },
    {
      "cell_type": "code",
      "source": [
        "#distribusi luas tanah\n",
        "f= plt.figure(figsize=(12,4))\n",
        "\n",
        "f.add_subplot(1,2,1)\n",
        "df['LT'].plot(kind='kde')\n",
        "\n",
        "f.add_subplot(1,2,2)\n",
        "plt.boxplot(df['LT'])\n",
        "plt.show()"
      ],
      "metadata": {
        "colab": {
          "base_uri": "https://localhost:8080/",
          "height": 257
        },
        "id": "Pq4mMef7gPbb",
        "outputId": "c6fe536a-8427-47c3-d582-823d6497767c"
      },
      "execution_count": null,
      "outputs": [
        {
          "output_type": "display_data",
          "data": {
            "text/plain": [
              "<Figure size 864x288 with 2 Axes>"
            ],
            "image/png": "[encoded data removed]"
          },
          "metadata": {
            "needs_background": "light"
          }
        }
      ]
    },
    {
      "cell_type": "code",
      "source": [
        "#distribusi garasi\n",
        "f= plt.figure(figsize=(12,4))\n",
        "\n",
        "f.add_subplot(1,2,1)\n",
        "sns.countplot(df['GRS'])\n",
        "\n",
        "f.add_subplot(1,2,2)\n",
        "plt.boxplot(df['GRS'])\n",
        "plt.show()"
      ],
      "metadata": {
        "colab": {
          "base_uri": "https://localhost:8080/",
          "height": 329
        },
        "id": "EYr-bh6RgPho",
        "outputId": "55846cf2-e518-412e-81d7-490374a7628f"
      },
      "execution_count": null,
      "outputs": [
        {
          "output_type": "stream",
          "name": "stderr",
          "text": [
            "/usr/local/lib/python3.7/dist-packages/seaborn/_decorators.py:43: FutureWarning: Pass the following variable as a keyword arg: x. From version 0.12, the only valid positional argument will be `data`, and passing other arguments without an explicit keyword will result in an error or misinterpretation.\n",
            "  FutureWarning\n"
          ]
        },
        {
          "output_type": "display_data",
          "data": {
            "text/plain": [
              "<Figure size 864x288 with 2 Axes>"
            ],
            "image/png": "[encoded data removed]"
          },
          "metadata": {
            "needs_background": "light"
          }
        }
      ]
    },
    {
      "cell_type": "markdown",
      "source": [
        "**HUBUNGAN & KORELASI VARIABEL INDEPENDEN DAN DEPENDEN**"
      ],
      "metadata": {
        "id": "x4pYNtmVhGLf"
      }
    },
    {
      "cell_type": "code",
      "source": [
        "#hubungan variabel independen dan dependen\n",
        "f= plt.figure(figsize=(10,8))\n",
        "\n",
        "sns.pairplot(data=df,x_vars=['LT', 'LB', 'KT', 'KM', 'GRS'],y_vars=['HARGA'], size=5, aspect=0.75)\n",
        "plt.show()"
      ],
      "metadata": {
        "colab": {
          "base_uri": "https://localhost:8080/",
          "height": 281
        },
        "id": "NCY8E06BhLjX",
        "outputId": "899fc727-0ad6-43c0-f065-108745bff1a6"
      },
      "execution_count": null,
      "outputs": [
        {
          "output_type": "stream",
          "name": "stderr",
          "text": [
            "/usr/local/lib/python3.7/dist-packages/seaborn/axisgrid.py:2076: UserWarning: The `size` parameter has been renamed to `height`; please update your code.\n",
            "  warnings.warn(msg, UserWarning)\n"
          ]
        },
        {
          "output_type": "display_data",
          "data": {
            "text/plain": [
              "<Figure size 720x576 with 0 Axes>"
            ]
          },
          "metadata": {}
        },
        {
          "output_type": "display_data",
          "data": {
            "text/plain": [
              "<Figure size 1350x360 with 5 Axes>"
            ],
            "image/png": "[encoded data removed]"
          },
          "metadata": {
            "needs_background": "light"
          }
        }
      ]
    },
    {
      "cell_type": "code",
      "source": [
        "#nilai korelasi antar variabel\n",
        "df.corr().style.background_gradient().set_precision(2)"
      ],
      "metadata": {
        "colab": {
          "base_uri": "https://localhost:8080/",
          "height": 293
        },
        "id": "kSBC4ZiJhLqb",
        "outputId": "1c7c7f3a-b5c7-4f19-a8ab-c1c19f4db965"
      },
      "execution_count": null,
      "outputs": [
        {
          "output_type": "stream",
          "name": "stderr",
          "text": [
            "/usr/local/lib/python3.7/dist-packages/ipykernel_launcher.py:2: FutureWarning: this method is deprecated in favour of `Styler.format(precision=..)`\n",
            "  \n"
          ]
        },
        {
          "output_type": "execute_result",
          "data": {
            "text/plain": [
              "<pandas.io.formats.style.Styler at 0x7f30bdce6410>"
            ],
            "text/html": [
              "<style type=\"text/css\">\n",
              "#T_dcd0f_row0_col0, #T_dcd0f_row1_col1, #T_dcd0f_row2_col2, #T_dcd0f_row3_col3, #T_dcd0f_row4_col4, #T_dcd0f_row5_col5 {\n",
              "  background-color: #023858;\n",
              "  color: #f1f1f1;\n",
              "}\n",
              "#T_dcd0f_row0_col1 {\n",
              "  background-color: #5ea0ca;\n",
              "  color: #f1f1f1;\n",
              "}\n",
              "#T_dcd0f_row0_col2 {\n",
              "  background-color: #1c7fb8;\n",
              "  color: #f1f1f1;\n",
              "}\n",
              "#T_dcd0f_row0_col3, #T_dcd0f_row3_col2 {\n",
              "  background-color: #f6eff7;\n",
              "  color: #000000;\n",
              "}\n",
              "#T_dcd0f_row0_col4, #T_dcd0f_row4_col5 {\n",
              "  background-color: #f1ebf5;\n",
              "  color: #000000;\n",
              "}\n",
              "#T_dcd0f_row0_col5, #T_dcd0f_row1_col4, #T_dcd0f_row2_col5 {\n",
              "  background-color: #c5cce3;\n",
              "  color: #000000;\n",
              "}\n",
              "#T_dcd0f_row1_col0 {\n",
              "  background-color: #358fc0;\n",
              "  color: #f1f1f1;\n",
              "}\n",
              "#T_dcd0f_row1_col2 {\n",
              "  background-color: #4e9ac6;\n",
              "  color: #f1f1f1;\n",
              "}\n",
              "#T_dcd0f_row1_col3 {\n",
              "  background-color: #d5d5e8;\n",
              "  color: #000000;\n",
              "}\n",
              "#T_dcd0f_row1_col5 {\n",
              "  background-color: #c1cae2;\n",
              "  color: #000000;\n",
              "}\n",
              "#T_dcd0f_row2_col0 {\n",
              "  background-color: #1278b4;\n",
              "  color: #f1f1f1;\n",
              "}\n",
              "#T_dcd0f_row2_col1 {\n",
              "  background-color: #63a2cb;\n",
              "  color: #f1f1f1;\n",
              "}\n",
              "#T_dcd0f_row2_col3 {\n",
              "  background-color: #dbdaeb;\n",
              "  color: #000000;\n",
              "}\n",
              "#T_dcd0f_row2_col4 {\n",
              "  background-color: #f5eff6;\n",
              "  color: #000000;\n",
              "}\n",
              "#T_dcd0f_row3_col0, #T_dcd0f_row3_col1, #T_dcd0f_row3_col5, #T_dcd0f_row4_col2, #T_dcd0f_row5_col3, #T_dcd0f_row5_col4 {\n",
              "  background-color: #fff7fb;\n",
              "  color: #000000;\n",
              "}\n",
              "#T_dcd0f_row3_col4 {\n",
              "  background-color: #76aad0;\n",
              "  color: #f1f1f1;\n",
              "}\n",
              "#T_dcd0f_row4_col0 {\n",
              "  background-color: #ede8f3;\n",
              "  color: #000000;\n",
              "}\n",
              "#T_dcd0f_row4_col1 {\n",
              "  background-color: #e6e2ef;\n",
              "  color: #000000;\n",
              "}\n",
              "#T_dcd0f_row4_col3 {\n",
              "  background-color: #60a1ca;\n",
              "  color: #f1f1f1;\n",
              "}\n",
              "#T_dcd0f_row5_col0 {\n",
              "  background-color: #d2d3e7;\n",
              "  color: #000000;\n",
              "}\n",
              "#T_dcd0f_row5_col1 {\n",
              "  background-color: #f2ecf5;\n",
              "  color: #000000;\n",
              "}\n",
              "#T_dcd0f_row5_col2 {\n",
              "  background-color: #e5e1ef;\n",
              "  color: #000000;\n",
              "}\n",
              "</style>\n",
              "<table id=\"T_dcd0f_\" class=\"dataframe\">\n",
              "  <thead>\n",
              "    <tr>\n",
              "      <th class=\"blank level0\" >&nbsp;</th>\n",
              "      <th class=\"col_heading level0 col0\" >HARGA</th>\n",
              "      <th class=\"col_heading level0 col1\" >LB</th>\n",
              "      <th class=\"col_heading level0 col2\" >LT</th>\n",
              "      <th class=\"col_heading level0 col3\" >KT</th>\n",
              "      <th class=\"col_heading level0 col4\" >KM</th>\n",
              "      <th class=\"col_heading level0 col5\" >GRS</th>\n",
              "    </tr>\n",
              "  </thead>\n",
              "  <tbody>\n",
              "    <tr>\n",
              "      <th id=\"T_dcd0f_level0_row0\" class=\"row_heading level0 row0\" >HARGA</th>\n",
              "      <td id=\"T_dcd0f_row0_col0\" class=\"data row0 col0\" >1.00</td>\n",
              "      <td id=\"T_dcd0f_row0_col1\" class=\"data row0 col1\" >0.75</td>\n",
              "      <td id=\"T_dcd0f_row0_col2\" class=\"data row0 col2\" >0.81</td>\n",
              "      <td id=\"T_dcd0f_row0_col3\" class=\"data row0 col3\" >0.32</td>\n",
              "      <td id=\"T_dcd0f_row0_col4\" class=\"data row0 col4\" >0.40</td>\n",
              "      <td id=\"T_dcd0f_row0_col5\" class=\"data row0 col5\" >0.48</td>\n",
              "    </tr>\n",
              "    <tr>\n",
              "      <th id=\"T_dcd0f_level0_row1\" class=\"row_heading level0 row1\" >LB</th>\n",
              "      <td id=\"T_dcd0f_row1_col0\" class=\"data row1 col0\" >0.75</td>\n",
              "      <td id=\"T_dcd0f_row1_col1\" class=\"data row1 col1\" >1.00</td>\n",
              "      <td id=\"T_dcd0f_row1_col2\" class=\"data row1 col2\" >0.74</td>\n",
              "      <td id=\"T_dcd0f_row1_col3\" class=\"data row1 col3\" >0.44</td>\n",
              "      <td id=\"T_dcd0f_row1_col4\" class=\"data row1 col4\" >0.53</td>\n",
              "      <td id=\"T_dcd0f_row1_col5\" class=\"data row1 col5\" >0.49</td>\n",
              "    </tr>\n",
              "    <tr>\n",
              "      <th id=\"T_dcd0f_level0_row2\" class=\"row_heading level0 row2\" >LT</th>\n",
              "      <td id=\"T_dcd0f_row2_col0\" class=\"data row2 col0\" >0.81</td>\n",
              "      <td id=\"T_dcd0f_row2_col1\" class=\"data row2 col1\" >0.74</td>\n",
              "      <td id=\"T_dcd0f_row2_col2\" class=\"data row2 col2\" >1.00</td>\n",
              "      <td id=\"T_dcd0f_row2_col3\" class=\"data row2 col3\" >0.43</td>\n",
              "      <td id=\"T_dcd0f_row2_col4\" class=\"data row2 col4\" >0.39</td>\n",
              "      <td id=\"T_dcd0f_row2_col5\" class=\"data row2 col5\" >0.48</td>\n",
              "    </tr>\n",
              "    <tr>\n",
              "      <th id=\"T_dcd0f_level0_row3\" class=\"row_heading level0 row3\" >KT</th>\n",
              "      <td id=\"T_dcd0f_row3_col0\" class=\"data row3 col0\" >0.32</td>\n",
              "      <td id=\"T_dcd0f_row3_col1\" class=\"data row3 col1\" >0.44</td>\n",
              "      <td id=\"T_dcd0f_row3_col2\" class=\"data row3 col2\" >0.43</td>\n",
              "      <td id=\"T_dcd0f_row3_col3\" class=\"data row3 col3\" >1.00</td>\n",
              "      <td id=\"T_dcd0f_row3_col4\" class=\"data row3 col4\" >0.67</td>\n",
              "      <td id=\"T_dcd0f_row3_col5\" class=\"data row3 col5\" >0.28</td>\n",
              "    </tr>\n",
              "    <tr>\n",
              "      <th id=\"T_dcd0f_level0_row4\" class=\"row_heading level0 row4\" >KM</th>\n",
              "      <td id=\"T_dcd0f_row4_col0\" class=\"data row4 col0\" >0.40</td>\n",
              "      <td id=\"T_dcd0f_row4_col1\" class=\"data row4 col1\" >0.53</td>\n",
              "      <td id=\"T_dcd0f_row4_col2\" class=\"data row4 col2\" >0.39</td>\n",
              "      <td id=\"T_dcd0f_row4_col3\" class=\"data row4 col3\" >0.67</td>\n",
              "      <td id=\"T_dcd0f_row4_col4\" class=\"data row4 col4\" >1.00</td>\n",
              "      <td id=\"T_dcd0f_row4_col5\" class=\"data row4 col5\" >0.35</td>\n",
              "    </tr>\n",
              "    <tr>\n",
              "      <th id=\"T_dcd0f_level0_row5\" class=\"row_heading level0 row5\" >GRS</th>\n",
              "      <td id=\"T_dcd0f_row5_col0\" class=\"data row5 col0\" >0.48</td>\n",
              "      <td id=\"T_dcd0f_row5_col1\" class=\"data row5 col1\" >0.49</td>\n",
              "      <td id=\"T_dcd0f_row5_col2\" class=\"data row5 col2\" >0.48</td>\n",
              "      <td id=\"T_dcd0f_row5_col3\" class=\"data row5 col3\" >0.28</td>\n",
              "      <td id=\"T_dcd0f_row5_col4\" class=\"data row5 col4\" >0.35</td>\n",
              "      <td id=\"T_dcd0f_row5_col5\" class=\"data row5 col5\" >1.00</td>\n",
              "    </tr>\n",
              "  </tbody>\n",
              "</table>\n"
            ]
          },
          "metadata": {},
          "execution_count": 16
        }
      ]
    },
    {
      "cell_type": "code",
      "source": [
        ""
      ],
      "metadata": {
        "id": "130_KAWLhLtd"
      },
      "execution_count": null,
      "outputs": []
    },
    {
      "cell_type": "markdown",
      "source": [
        "**MODELLING DATA**"
      ],
      "metadata": {
        "id": "RoUjgA96hlrZ"
      }
    },
    {
      "cell_type": "markdown",
      "source": [
        "**A. Linear Regression**"
      ],
      "metadata": {
        "id": "5YMh7fQ9ignn"
      }
    },
    {
      "cell_type": "code",
      "source": [
        "#import library\n",
        "from sklearn.linear_model import LinearRegression\n",
        "from sklearn.model_selection import train_test_split"
      ],
      "metadata": {
        "id": "Io00fDYVUTQ8"
      },
      "execution_count": null,
      "outputs": []
    },
    {
      "cell_type": "code",
      "source": [
        "#memanggil dataset dengan kolom yang digunakan\n",
        "df = pd.read_csv('data_harga_rumah.csv', usecols=['NAMA RUMAH', 'HARGA', 'LB', 'LT', 'KT', 'KM', 'GRS'], encoding='latin-1')"
      ],
      "metadata": {
        "id": "TRiM2RQE3S_e"
      },
      "execution_count": null,
      "outputs": []
    },
    {
      "cell_type": "code",
      "source": [
        "#melihat data\n",
        "df.head()"
      ],
      "metadata": {
        "colab": {
          "base_uri": "https://localhost:8080/",
          "height": 206
        },
        "id": "SBFJCG0ghzng",
        "outputId": "37bbf4a6-f1f1-4348-a6ee-2d16f3ed9500"
      },
      "execution_count": null,
      "outputs": [
        {
          "output_type": "execute_result",
          "data": {
            "text/plain": [
              "                                          NAMA RUMAH       HARGA   LB   LT  \\\n",
              "0  Rumah Murah Hook Tebet Timur, Tebet, Jakarta S...  3800000000  220  220   \n",
              "1  Rumah Modern di Tebet dekat Stasiun, Tebet, Ja...  4600000000  180  137   \n",
              "2  Rumah Mewah 2 Lantai Hanya 3 Menit Ke Tebet, T...  3000000000  267  250   \n",
              "3           Rumah Baru Tebet, Tebet, Jakarta Selatan   430000000   40   25   \n",
              "4  Rumah Bagus Tebet komp Gudang Peluru lt 350m, ...  9000000000  400  355   \n",
              "\n",
              "   KT  KM  GRS  \n",
              "0   3   3    0  \n",
              "1   4   3    2  \n",
              "2   4   4    4  \n",
              "3   2   2    0  \n",
              "4   6   5    3  "
            ],
            "text/html": [
              "\n",
              "  <div id=\"df-f462b937-3329-4b60-8d79-c45ec1174a95\">\n",
              "    <div class=\"colab-df-container\">\n",
              "      <div>\n",
              "<style scoped>\n",
              "    .dataframe tbody tr th:only-of-type {\n",
              "        vertical-align: middle;\n",
              "    }\n",
              "\n",
              "    .dataframe tbody tr th {\n",
              "        vertical-align: top;\n",
              "    }\n",
              "\n",
              "    .dataframe thead th {\n",
              "        text-align: right;\n",
              "    }\n",
              "</style>\n",
              "<table border=\"1\" class=\"dataframe\">\n",
              "  <thead>\n",
              "    <tr style=\"text-align: right;\">\n",
              "      <th></th>\n",
              "      <th>NAMA RUMAH</th>\n",
              "      <th>HARGA</th>\n",
              "      <th>LB</th>\n",
              "      <th>LT</th>\n",
              "      <th>KT</th>\n",
              "      <th>KM</th>\n",
              "      <th>GRS</th>\n",
              "    </tr>\n",
              "  </thead>\n",
              "  <tbody>\n",
              "    <tr>\n",
              "      <th>0</th>\n",
              "      <td>Rumah Murah Hook Tebet Timur, Tebet, Jakarta S...</td>\n",
              "      <td>3800000000</td>\n",
              "      <td>220</td>\n",
              "      <td>220</td>\n",
              "      <td>3</td>\n",
              "      <td>3</td>\n",
              "      <td>0</td>\n",
              "    </tr>\n",
              "    <tr>\n",
              "      <th>1</th>\n",
              "      <td>Rumah Modern di Tebet dekat Stasiun, Tebet, Ja...</td>\n",
              "      <td>4600000000</td>\n",
              "      <td>180</td>\n",
              "      <td>137</td>\n",
              "      <td>4</td>\n",
              "      <td>3</td>\n",
              "      <td>2</td>\n",
              "    </tr>\n",
              "    <tr>\n",
              "      <th>2</th>\n",
              "      <td>Rumah Mewah 2 Lantai Hanya 3 Menit Ke Tebet, T...</td>\n",
              "      <td>3000000000</td>\n",
              "      <td>267</td>\n",
              "      <td>250</td>\n",
              "      <td>4</td>\n",
              "      <td>4</td>\n",
              "      <td>4</td>\n",
              "    </tr>\n",
              "    <tr>\n",
              "      <th>3</th>\n",
              "      <td>Rumah Baru Tebet, Tebet, Jakarta Selatan</td>\n",
              "      <td>430000000</td>\n",
              "      <td>40</td>\n",
              "      <td>25</td>\n",
              "      <td>2</td>\n",
              "      <td>2</td>\n",
              "      <td>0</td>\n",
              "    </tr>\n",
              "    <tr>\n",
              "      <th>4</th>\n",
              "      <td>Rumah Bagus Tebet komp Gudang Peluru lt 350m, ...</td>\n",
              "      <td>9000000000</td>\n",
              "      <td>400</td>\n",
              "      <td>355</td>\n",
              "      <td>6</td>\n",
              "      <td>5</td>\n",
              "      <td>3</td>\n",
              "    </tr>\n",
              "  </tbody>\n",
              "</table>\n",
              "</div>\n",
              "      <button class=\"colab-df-convert\" onclick=\"convertToInteractive('df-f462b937-3329-4b60-8d79-c45ec1174a95')\"\n",
              "              title=\"Convert this dataframe to an interactive table.\"\n",
              "              style=\"display:none;\">\n",
              "        \n",
              "  <svg xmlns=\"http://www.w3.org/2000/svg\" height=\"24px\"viewBox=\"0 0 24 24\"\n",
              "       width=\"24px\">\n",
              "    <path d=\"M0 0h24v24H0V0z\" fill=\"none\"/>\n",
              "    <path d=\"M18.56 5.44l.94 2.06.94-2.06 2.06-.94-2.06-.94-.94-2.06-.94 2.06-2.06.94zm-11 1L8.5 8.5l.94-2.06 2.06-.94-2.06-.94L8.5 2.5l-.94 2.06-2.06.94zm10 10l.94 2.06.94-2.06 2.06-.94-2.06-.94-.94-2.06-.94 2.06-2.06.94z\"/><path d=\"M17.41 7.96l-1.37-1.37c-.4-.4-.92-.59-1.43-.59-.52 0-1.04.2-1.43.59L10.3 9.45l-7.72 7.72c-.78.78-.78 2.05 0 2.83L4 21.41c.39.39.9.59 1.41.59.51 0 1.02-.2 1.41-.59l7.78-7.78 2.81-2.81c.8-.78.8-2.07 0-2.86zM5.41 20L4 18.59l7.72-7.72 1.47 1.35L5.41 20z\"/>\n",
              "  </svg>\n",
              "      </button>\n",
              "      \n",
              "  <style>\n",
              "    .colab-df-container {\n",
              "      display:flex;\n",
              "      flex-wrap:wrap;\n",
              "      gap: 12px;\n",
              "    }\n",
              "\n",
              "    .colab-df-convert {\n",
              "      background-color: #E8F0FE;\n",
              "      border: none;\n",
              "      border-radius: 50%;\n",
              "      cursor: pointer;\n",
              "      display: none;\n",
              "      fill: #1967D2;\n",
              "      height: 32px;\n",
              "      padding: 0 0 0 0;\n",
              "      width: 32px;\n",
              "    }\n",
              "\n",
              "    .colab-df-convert:hover {\n",
              "      background-color: #E2EBFA;\n",
              "      box-shadow: 0px 1px 2px rgba(60, 64, 67, 0.3), 0px 1px 3px 1px rgba(60, 64, 67, 0.15);\n",
              "      fill: #174EA6;\n",
              "    }\n",
              "\n",
              "    [theme=dark] .colab-df-convert {\n",
              "      background-color: #3B4455;\n",
              "      fill: #D2E3FC;\n",
              "    }\n",
              "\n",
              "    [theme=dark] .colab-df-convert:hover {\n",
              "      background-color: #434B5C;\n",
              "      box-shadow: 0px 1px 3px 1px rgba(0, 0, 0, 0.15);\n",
              "      filter: drop-shadow(0px 1px 2px rgba(0, 0, 0, 0.3));\n",
              "      fill: #FFFFFF;\n",
              "    }\n",
              "  </style>\n",
              "\n",
              "      <script>\n",
              "        const buttonEl =\n",
              "          document.querySelector('#df-f462b937-3329-4b60-8d79-c45ec1174a95 button.colab-df-convert');\n",
              "        buttonEl.style.display =\n",
              "          google.colab.kernel.accessAllowed ? 'block' : 'none';\n",
              "\n",
              "        async function convertToInteractive(key) {\n",
              "          const element = document.querySelector('#df-f462b937-3329-4b60-8d79-c45ec1174a95');\n",
              "          const dataTable =\n",
              "            await google.colab.kernel.invokeFunction('convertToInteractive',\n",
              "                                                     [key], {});\n",
              "          if (!dataTable) return;\n",
              "\n",
              "          const docLinkHtml = 'Like what you see? Visit the ' +\n",
              "            '<a target=\"_blank\" href=https://colab.research.google.com/notebooks/data_table.ipynb>data table notebook</a>'\n",
              "            + ' to learn more about interactive tables.';\n",
              "          element.innerHTML = '';\n",
              "          dataTable['output_type'] = 'display_data';\n",
              "          await google.colab.output.renderOutput(dataTable, element);\n",
              "          const docLink = document.createElement('div');\n",
              "          docLink.innerHTML = docLinkHtml;\n",
              "          element.appendChild(docLink);\n",
              "        }\n",
              "      </script>\n",
              "    </div>\n",
              "  </div>\n",
              "  "
            ]
          },
          "metadata": {},
          "execution_count": 34
        }
      ]
    },
    {
      "cell_type": "code",
      "source": [
        "#membuat variabel X dan Y\n",
        "\n",
        "x = df.drop(columns=['HARGA','NAMA RUMAH'])\n",
        "y = df['HARGA']\n",
        "x_train, x_test, y_train, y_test = train_test_split(x, y, test_size = 0.4, random_state=0)\n"
      ],
      "metadata": {
        "id": "Xc8jzQUjhzqO"
      },
      "execution_count": null,
      "outputs": []
    },
    {
      "cell_type": "code",
      "source": [
        "#mengecek shape dari data training & data testing\n",
        "print(x_train.shape)\n",
        "print(x_test.shape)\n",
        "print(y_train.shape)\n",
        "print(y_test.shape)"
      ],
      "metadata": {
        "colab": {
          "base_uri": "https://localhost:8080/"
        },
        "id": "iCBqDLbNhztL",
        "outputId": "e1177cc8-016f-4cce-dc1a-95c6c084b6eb"
      },
      "execution_count": null,
      "outputs": [
        {
          "output_type": "stream",
          "name": "stdout",
          "text": [
            "(606, 5)\n",
            "(404, 5)\n",
            "(606,)\n",
            "(404,)\n"
          ]
        }
      ]
    },
    {
      "cell_type": "code",
      "source": [
        "#membuat object regresi linear\n",
        "lin_reg = LinearRegression()"
      ],
      "metadata": {
        "id": "8HRfF-Abhzvv"
      },
      "execution_count": null,
      "outputs": []
    },
    {
      "cell_type": "code",
      "source": [
        "#melatih data dengan data training yang sudah displit\n",
        "lin_reg.fit(x_train, y_train)"
      ],
      "metadata": {
        "colab": {
          "base_uri": "https://localhost:8080/"
        },
        "id": "RilRHXHDj39Y",
        "outputId": "143598e5-761d-4796-cbec-5687badf3d81"
      },
      "execution_count": null,
      "outputs": [
        {
          "output_type": "execute_result",
          "data": {
            "text/plain": [
              "LinearRegression()"
            ]
          },
          "metadata": {},
          "execution_count": 58
        }
      ]
    },
    {
      "cell_type": "code",
      "source": [
        "# Mencari nilai slope/koefisien (m) dan intercept (b)\n",
        "print(lin_reg.coef_)\n",
        "print(lin_reg.intercept_)"
      ],
      "metadata": {
        "colab": {
          "base_uri": "https://localhost:8080/"
        },
        "id": "WjnrPs_LkCfY",
        "outputId": "277efc4d-9d27-4b94-9df8-55d8fc61e783"
      },
      "execution_count": null,
      "outputs": [
        {
          "output_type": "stream",
          "name": "stdout",
          "text": [
            "[ 1.45398380e+05  1.03701720e+07  2.34413821e+07 -3.95811588e+08\n",
            "  3.22519805e+08  2.63741885e+08]\n",
            "-829474677.3517113\n"
          ]
        }
      ]
    },
    {
      "cell_type": "code",
      "source": [
        "# memasukkan nilai ke dalam dataframe\n",
        "coef_dict = {\n",
        "    'features': x.columns,\n",
        "    'coef_value':lin_reg.coef_\n",
        "}\n",
        "coef = pd.DataFrame(coef_dict, columns=['features', 'coef_value'])\n",
        "coef"
      ],
      "metadata": {
        "colab": {
          "base_uri": "https://localhost:8080/",
          "height": 206
        },
        "id": "dw62dnyqiwUy",
        "outputId": "ae19d2c6-54c0-4493-faea-f1a1ad957bc9"
      },
      "execution_count": null,
      "outputs": [
        {
          "output_type": "execute_result",
          "data": {
            "text/plain": [
              "  features    coef_value\n",
              "0       LB  1.038368e+07\n",
              "1       LT  2.343164e+07\n",
              "2       KT -3.962576e+08\n",
              "3       KM  3.208333e+08\n",
              "4      GRS  2.656817e+08"
            ],
            "text/html": [
              "\n",
              "  <div id=\"df-983164b2-df88-4870-b70e-f2d183ebd203\">\n",
              "    <div class=\"colab-df-container\">\n",
              "      <div>\n",
              "<style scoped>\n",
              "    .dataframe tbody tr th:only-of-type {\n",
              "        vertical-align: middle;\n",
              "    }\n",
              "\n",
              "    .dataframe tbody tr th {\n",
              "        vertical-align: top;\n",
              "    }\n",
              "\n",
              "    .dataframe thead th {\n",
              "        text-align: right;\n",
              "    }\n",
              "</style>\n",
              "<table border=\"1\" class=\"dataframe\">\n",
              "  <thead>\n",
              "    <tr style=\"text-align: right;\">\n",
              "      <th></th>\n",
              "      <th>features</th>\n",
              "      <th>coef_value</th>\n",
              "    </tr>\n",
              "  </thead>\n",
              "  <tbody>\n",
              "    <tr>\n",
              "      <th>0</th>\n",
              "      <td>LB</td>\n",
              "      <td>1.038368e+07</td>\n",
              "    </tr>\n",
              "    <tr>\n",
              "      <th>1</th>\n",
              "      <td>LT</td>\n",
              "      <td>2.343164e+07</td>\n",
              "    </tr>\n",
              "    <tr>\n",
              "      <th>2</th>\n",
              "      <td>KT</td>\n",
              "      <td>-3.962576e+08</td>\n",
              "    </tr>\n",
              "    <tr>\n",
              "      <th>3</th>\n",
              "      <td>KM</td>\n",
              "      <td>3.208333e+08</td>\n",
              "    </tr>\n",
              "    <tr>\n",
              "      <th>4</th>\n",
              "      <td>GRS</td>\n",
              "      <td>2.656817e+08</td>\n",
              "    </tr>\n",
              "  </tbody>\n",
              "</table>\n",
              "</div>\n",
              "      <button class=\"colab-df-convert\" onclick=\"convertToInteractive('df-983164b2-df88-4870-b70e-f2d183ebd203')\"\n",
              "              title=\"Convert this dataframe to an interactive table.\"\n",
              "              style=\"display:none;\">\n",
              "        \n",
              "  <svg xmlns=\"http://www.w3.org/2000/svg\" height=\"24px\"viewBox=\"0 0 24 24\"\n",
              "       width=\"24px\">\n",
              "    <path d=\"M0 0h24v24H0V0z\" fill=\"none\"/>\n",
              "    <path d=\"M18.56 5.44l.94 2.06.94-2.06 2.06-.94-2.06-.94-.94-2.06-.94 2.06-2.06.94zm-11 1L8.5 8.5l.94-2.06 2.06-.94-2.06-.94L8.5 2.5l-.94 2.06-2.06.94zm10 10l.94 2.06.94-2.06 2.06-.94-2.06-.94-.94-2.06-.94 2.06-2.06.94z\"/><path d=\"M17.41 7.96l-1.37-1.37c-.4-.4-.92-.59-1.43-.59-.52 0-1.04.2-1.43.59L10.3 9.45l-7.72 7.72c-.78.78-.78 2.05 0 2.83L4 21.41c.39.39.9.59 1.41.59.51 0 1.02-.2 1.41-.59l7.78-7.78 2.81-2.81c.8-.78.8-2.07 0-2.86zM5.41 20L4 18.59l7.72-7.72 1.47 1.35L5.41 20z\"/>\n",
              "  </svg>\n",
              "      </button>\n",
              "      \n",
              "  <style>\n",
              "    .colab-df-container {\n",
              "      display:flex;\n",
              "      flex-wrap:wrap;\n",
              "      gap: 12px;\n",
              "    }\n",
              "\n",
              "    .colab-df-convert {\n",
              "      background-color: #E8F0FE;\n",
              "      border: none;\n",
              "      border-radius: 50%;\n",
              "      cursor: pointer;\n",
              "      display: none;\n",
              "      fill: #1967D2;\n",
              "      height: 32px;\n",
              "      padding: 0 0 0 0;\n",
              "      width: 32px;\n",
              "    }\n",
              "\n",
              "    .colab-df-convert:hover {\n",
              "      background-color: #E2EBFA;\n",
              "      box-shadow: 0px 1px 2px rgba(60, 64, 67, 0.3), 0px 1px 3px 1px rgba(60, 64, 67, 0.15);\n",
              "      fill: #174EA6;\n",
              "    }\n",
              "\n",
              "    [theme=dark] .colab-df-convert {\n",
              "      background-color: #3B4455;\n",
              "      fill: #D2E3FC;\n",
              "    }\n",
              "\n",
              "    [theme=dark] .colab-df-convert:hover {\n",
              "      background-color: #434B5C;\n",
              "      box-shadow: 0px 1px 3px 1px rgba(0, 0, 0, 0.15);\n",
              "      filter: drop-shadow(0px 1px 2px rgba(0, 0, 0, 0.3));\n",
              "      fill: #FFFFFF;\n",
              "    }\n",
              "  </style>\n",
              "\n",
              "      <script>\n",
              "        const buttonEl =\n",
              "          document.querySelector('#df-983164b2-df88-4870-b70e-f2d183ebd203 button.colab-df-convert');\n",
              "        buttonEl.style.display =\n",
              "          google.colab.kernel.accessAllowed ? 'block' : 'none';\n",
              "\n",
              "        async function convertToInteractive(key) {\n",
              "          const element = document.querySelector('#df-983164b2-df88-4870-b70e-f2d183ebd203');\n",
              "          const dataTable =\n",
              "            await google.colab.kernel.invokeFunction('convertToInteractive',\n",
              "                                                     [key], {});\n",
              "          if (!dataTable) return;\n",
              "\n",
              "          const docLinkHtml = 'Like what you see? Visit the ' +\n",
              "            '<a target=\"_blank\" href=https://colab.research.google.com/notebooks/data_table.ipynb>data table notebook</a>'\n",
              "            + ' to learn more about interactive tables.';\n",
              "          element.innerHTML = '';\n",
              "          dataTable['output_type'] = 'display_data';\n",
              "          await google.colab.output.renderOutput(dataTable, element);\n",
              "          const docLink = document.createElement('div');\n",
              "          docLink.innerHTML = docLinkHtml;\n",
              "          element.appendChild(docLink);\n",
              "        }\n",
              "      </script>\n",
              "    </div>\n",
              "  </div>\n",
              "  "
            ]
          },
          "metadata": {},
          "execution_count": 59
        }
      ]
    },
    {
      "cell_type": "markdown",
      "source": [
        "dari milai m dan b diatas, kalau dimasukan ke dalam rumus menjadi: Y =1.038368e+07 + 2.343164e+07 + -3.962576e+08 +\t3.208333e+08 +\t2.656817e+08"
      ],
      "metadata": {
        "id": "IC0ua2hspJ0y"
      }
    },
    {
      "cell_type": "code",
      "source": [
        "y_pred = lin_reg.predict(x_test)"
      ],
      "metadata": {
        "id": "atWDdltpiwXo"
      },
      "execution_count": null,
      "outputs": []
    },
    {
      "cell_type": "code",
      "source": [
        "# mencari nilai akurasi dari model menggunakan data testing yang sudah displit\n",
        "\n",
        "lin_reg.score(x_test, y_test)"
      ],
      "metadata": {
        "colab": {
          "base_uri": "https://localhost:8080/"
        },
        "id": "pZa2H2eDiwar",
        "outputId": "7112dca7-22a4-4a79-e167-fd51a248a4df"
      },
      "execution_count": null,
      "outputs": [
        {
          "output_type": "execute_result",
          "data": {
            "text/plain": [
              "0.6964531825442918"
            ]
          },
          "metadata": {},
          "execution_count": 61
        }
      ]
    },
    {
      "cell_type": "code",
      "source": [
        ""
      ],
      "metadata": {
        "id": "NmZF4paLiwhU"
      },
      "execution_count": null,
      "outputs": []
    },
    {
      "cell_type": "code",
      "source": [
        "# Pengujian Akurasi \n",
        "\n",
        "from sklearn.metrics import mean_squared_error, r2_score\n",
        "\n",
        "print(\"RMSE: \", np.sqrt(mean_squared_error(y_test, y_pred)))\n",
        "print(\"R2: \",r2_score(y_test, y_pred))"
      ],
      "metadata": {
        "id": "l8waJkXjtgzs",
        "colab": {
          "base_uri": "https://localhost:8080/"
        },
        "outputId": "90c946f0-3d92-464d-f6ff-5fdb9f63143b"
      },
      "execution_count": null,
      "outputs": [
        {
          "output_type": "stream",
          "name": "stdout",
          "text": [
            "RMSE:  4395785322.216207\n",
            "R2:  0.6964531825442918\n"
          ]
        }
      ]
    },
    {
      "cell_type": "code",
      "source": [
        ""
      ],
      "metadata": {
        "id": "Cq18pY9x8oLv"
      },
      "execution_count": null,
      "outputs": []
    },
    {
      "cell_type": "code",
      "source": [
        ""
      ],
      "metadata": {
        "id": "F-9BjE3F8oTZ"
      },
      "execution_count": null,
      "outputs": []
    },
    {
      "cell_type": "markdown",
      "source": [
        "**B. Polynomial Regression**"
      ],
      "metadata": {
        "id": "yTtXHNzndMsk"
      }
    },
    {
      "cell_type": "code",
      "source": [
        "# import the libraries\n",
        "\n",
        "import numpy as np\n",
        "import pandas as pd\n",
        "import matplotlib.pyplot as plt\n",
        "from sklearn.preprocessing import PolynomialFeatures\n",
        "from sklearn.linear_model import LinearRegression\n",
        "from sklearn.model_selection import train_test_split\n",
        "from sklearn.metrics import mean_squared_error\n",
        "from math import sqrt"
      ],
      "metadata": {
        "id": "9onYhBisdR3s"
      },
      "execution_count": null,
      "outputs": []
    },
    {
      "cell_type": "code",
      "source": [
        "#memanggil dataset dengan kolom yang digunakan\n",
        "df = pd.read_csv('data_harga_rumah.csv', usecols=['NAMA RUMAH', 'HARGA', 'LB', 'LT', 'KT', 'KM', 'GRS'], encoding='latin-1')"
      ],
      "metadata": {
        "id": "ODvi5ONc3ZMN"
      },
      "execution_count": null,
      "outputs": []
    },
    {
      "cell_type": "code",
      "source": [
        "#melihat data\n",
        "df"
      ],
      "metadata": {
        "colab": {
          "base_uri": "https://localhost:8080/",
          "height": 424
        },
        "id": "i2XQ6uvadR6h",
        "outputId": "e049bfd8-b2ce-4267-a10e-8f972b5bef3e"
      },
      "execution_count": null,
      "outputs": [
        {
          "output_type": "execute_result",
          "data": {
            "text/plain": [
              "                                             NAMA RUMAH        HARGA   LB  \\\n",
              "0     Rumah Murah Hook Tebet Timur, Tebet, Jakarta S...   3800000000  220   \n",
              "1     Rumah Modern di Tebet dekat Stasiun, Tebet, Ja...   4600000000  180   \n",
              "2     Rumah Mewah 2 Lantai Hanya 3 Menit Ke Tebet, T...   3000000000  267   \n",
              "3              Rumah Baru Tebet, Tebet, Jakarta Selatan    430000000   40   \n",
              "4     Rumah Bagus Tebet komp Gudang Peluru lt 350m, ...   9000000000  400   \n",
              "...                                                 ...          ...  ...   \n",
              "1005  Rumah Strategis Akses Jalan 2mobil Di Menteng ...   9000000000  450   \n",
              "1006             Tebet Rumah Siap Huni Jln 2 Mbl Nyaman   4000000000  160   \n",
              "1007        Di Kebun Baru Rumah Terawat, Area Strategis   4000000000  139   \n",
              "1008  Dijual Cepat Rumah Komp Depkeu Dr Soepomo Tebe...  19000000000  360   \n",
              "1009                Dijual Rumah Kokoh Di Gudang Peluru  10500000000  420   \n",
              "\n",
              "       LT  KT  KM  GRS  \n",
              "0     220   3   3    0  \n",
              "1     137   4   3    2  \n",
              "2     250   4   4    4  \n",
              "3      25   2   2    0  \n",
              "4     355   6   5    3  \n",
              "...   ...  ..  ..  ...  \n",
              "1005  550  10  10    3  \n",
              "1006  140   4   3    2  \n",
              "1007  230   4   4    1  \n",
              "1008  606   7   4    0  \n",
              "1009  430   7   4    2  \n",
              "\n",
              "[1010 rows x 7 columns]"
            ],
            "text/html": [
              "\n",
              "  <div id=\"df-5ac41092-113c-4dc2-844b-0ec4838cb83a\">\n",
              "    <div class=\"colab-df-container\">\n",
              "      <div>\n",
              "<style scoped>\n",
              "    .dataframe tbody tr th:only-of-type {\n",
              "        vertical-align: middle;\n",
              "    }\n",
              "\n",
              "    .dataframe tbody tr th {\n",
              "        vertical-align: top;\n",
              "    }\n",
              "\n",
              "    .dataframe thead th {\n",
              "        text-align: right;\n",
              "    }\n",
              "</style>\n",
              "<table border=\"1\" class=\"dataframe\">\n",
              "  <thead>\n",
              "    <tr style=\"text-align: right;\">\n",
              "      <th></th>\n",
              "      <th>NAMA RUMAH</th>\n",
              "      <th>HARGA</th>\n",
              "      <th>LB</th>\n",
              "      <th>LT</th>\n",
              "      <th>KT</th>\n",
              "      <th>KM</th>\n",
              "      <th>GRS</th>\n",
              "    </tr>\n",
              "  </thead>\n",
              "  <tbody>\n",
              "    <tr>\n",
              "      <th>0</th>\n",
              "      <td>Rumah Murah Hook Tebet Timur, Tebet, Jakarta S...</td>\n",
              "      <td>3800000000</td>\n",
              "      <td>220</td>\n",
              "      <td>220</td>\n",
              "      <td>3</td>\n",
              "      <td>3</td>\n",
              "      <td>0</td>\n",
              "    </tr>\n",
              "    <tr>\n",
              "      <th>1</th>\n",
              "      <td>Rumah Modern di Tebet dekat Stasiun, Tebet, Ja...</td>\n",
              "      <td>4600000000</td>\n",
              "      <td>180</td>\n",
              "      <td>137</td>\n",
              "      <td>4</td>\n",
              "      <td>3</td>\n",
              "      <td>2</td>\n",
              "    </tr>\n",
              "    <tr>\n",
              "      <th>2</th>\n",
              "      <td>Rumah Mewah 2 Lantai Hanya 3 Menit Ke Tebet, T...</td>\n",
              "      <td>3000000000</td>\n",
              "      <td>267</td>\n",
              "      <td>250</td>\n",
              "      <td>4</td>\n",
              "      <td>4</td>\n",
              "      <td>4</td>\n",
              "    </tr>\n",
              "    <tr>\n",
              "      <th>3</th>\n",
              "      <td>Rumah Baru Tebet, Tebet, Jakarta Selatan</td>\n",
              "      <td>430000000</td>\n",
              "      <td>40</td>\n",
              "      <td>25</td>\n",
              "      <td>2</td>\n",
              "      <td>2</td>\n",
              "      <td>0</td>\n",
              "    </tr>\n",
              "    <tr>\n",
              "      <th>4</th>\n",
              "      <td>Rumah Bagus Tebet komp Gudang Peluru lt 350m, ...</td>\n",
              "      <td>9000000000</td>\n",
              "      <td>400</td>\n",
              "      <td>355</td>\n",
              "      <td>6</td>\n",
              "      <td>5</td>\n",
              "      <td>3</td>\n",
              "    </tr>\n",
              "    <tr>\n",
              "      <th>...</th>\n",
              "      <td>...</td>\n",
              "      <td>...</td>\n",
              "      <td>...</td>\n",
              "      <td>...</td>\n",
              "      <td>...</td>\n",
              "      <td>...</td>\n",
              "      <td>...</td>\n",
              "    </tr>\n",
              "    <tr>\n",
              "      <th>1005</th>\n",
              "      <td>Rumah Strategis Akses Jalan 2mobil Di Menteng ...</td>\n",
              "      <td>9000000000</td>\n",
              "      <td>450</td>\n",
              "      <td>550</td>\n",
              "      <td>10</td>\n",
              "      <td>10</td>\n",
              "      <td>3</td>\n",
              "    </tr>\n",
              "    <tr>\n",
              "      <th>1006</th>\n",
              "      <td>Tebet Rumah Siap Huni Jln 2 Mbl Nyaman</td>\n",
              "      <td>4000000000</td>\n",
              "      <td>160</td>\n",
              "      <td>140</td>\n",
              "      <td>4</td>\n",
              "      <td>3</td>\n",
              "      <td>2</td>\n",
              "    </tr>\n",
              "    <tr>\n",
              "      <th>1007</th>\n",
              "      <td>Di Kebun Baru Rumah Terawat, Area Strategis</td>\n",
              "      <td>4000000000</td>\n",
              "      <td>139</td>\n",
              "      <td>230</td>\n",
              "      <td>4</td>\n",
              "      <td>4</td>\n",
              "      <td>1</td>\n",
              "    </tr>\n",
              "    <tr>\n",
              "      <th>1008</th>\n",
              "      <td>Dijual Cepat Rumah Komp Depkeu Dr Soepomo Tebe...</td>\n",
              "      <td>19000000000</td>\n",
              "      <td>360</td>\n",
              "      <td>606</td>\n",
              "      <td>7</td>\n",
              "      <td>4</td>\n",
              "      <td>0</td>\n",
              "    </tr>\n",
              "    <tr>\n",
              "      <th>1009</th>\n",
              "      <td>Dijual Rumah Kokoh Di Gudang Peluru</td>\n",
              "      <td>10500000000</td>\n",
              "      <td>420</td>\n",
              "      <td>430</td>\n",
              "      <td>7</td>\n",
              "      <td>4</td>\n",
              "      <td>2</td>\n",
              "    </tr>\n",
              "  </tbody>\n",
              "</table>\n",
              "<p>1010 rows × 7 columns</p>\n",
              "</div>\n",
              "      <button class=\"colab-df-convert\" onclick=\"convertToInteractive('df-5ac41092-113c-4dc2-844b-0ec4838cb83a')\"\n",
              "              title=\"Convert this dataframe to an interactive table.\"\n",
              "              style=\"display:none;\">\n",
              "        \n",
              "  <svg xmlns=\"http://www.w3.org/2000/svg\" height=\"24px\"viewBox=\"0 0 24 24\"\n",
              "       width=\"24px\">\n",
              "    <path d=\"M0 0h24v24H0V0z\" fill=\"none\"/>\n",
              "    <path d=\"M18.56 5.44l.94 2.06.94-2.06 2.06-.94-2.06-.94-.94-2.06-.94 2.06-2.06.94zm-11 1L8.5 8.5l.94-2.06 2.06-.94-2.06-.94L8.5 2.5l-.94 2.06-2.06.94zm10 10l.94 2.06.94-2.06 2.06-.94-2.06-.94-.94-2.06-.94 2.06-2.06.94z\"/><path d=\"M17.41 7.96l-1.37-1.37c-.4-.4-.92-.59-1.43-.59-.52 0-1.04.2-1.43.59L10.3 9.45l-7.72 7.72c-.78.78-.78 2.05 0 2.83L4 21.41c.39.39.9.59 1.41.59.51 0 1.02-.2 1.41-.59l7.78-7.78 2.81-2.81c.8-.78.8-2.07 0-2.86zM5.41 20L4 18.59l7.72-7.72 1.47 1.35L5.41 20z\"/>\n",
              "  </svg>\n",
              "      </button>\n",
              "      \n",
              "  <style>\n",
              "    .colab-df-container {\n",
              "      display:flex;\n",
              "      flex-wrap:wrap;\n",
              "      gap: 12px;\n",
              "    }\n",
              "\n",
              "    .colab-df-convert {\n",
              "      background-color: #E8F0FE;\n",
              "      border: none;\n",
              "      border-radius: 50%;\n",
              "      cursor: pointer;\n",
              "      display: none;\n",
              "      fill: #1967D2;\n",
              "      height: 32px;\n",
              "      padding: 0 0 0 0;\n",
              "      width: 32px;\n",
              "    }\n",
              "\n",
              "    .colab-df-convert:hover {\n",
              "      background-color: #E2EBFA;\n",
              "      box-shadow: 0px 1px 2px rgba(60, 64, 67, 0.3), 0px 1px 3px 1px rgba(60, 64, 67, 0.15);\n",
              "      fill: #174EA6;\n",
              "    }\n",
              "\n",
              "    [theme=dark] .colab-df-convert {\n",
              "      background-color: #3B4455;\n",
              "      fill: #D2E3FC;\n",
              "    }\n",
              "\n",
              "    [theme=dark] .colab-df-convert:hover {\n",
              "      background-color: #434B5C;\n",
              "      box-shadow: 0px 1px 3px 1px rgba(0, 0, 0, 0.15);\n",
              "      filter: drop-shadow(0px 1px 2px rgba(0, 0, 0, 0.3));\n",
              "      fill: #FFFFFF;\n",
              "    }\n",
              "  </style>\n",
              "\n",
              "      <script>\n",
              "        const buttonEl =\n",
              "          document.querySelector('#df-5ac41092-113c-4dc2-844b-0ec4838cb83a button.colab-df-convert');\n",
              "        buttonEl.style.display =\n",
              "          google.colab.kernel.accessAllowed ? 'block' : 'none';\n",
              "\n",
              "        async function convertToInteractive(key) {\n",
              "          const element = document.querySelector('#df-5ac41092-113c-4dc2-844b-0ec4838cb83a');\n",
              "          const dataTable =\n",
              "            await google.colab.kernel.invokeFunction('convertToInteractive',\n",
              "                                                     [key], {});\n",
              "          if (!dataTable) return;\n",
              "\n",
              "          const docLinkHtml = 'Like what you see? Visit the ' +\n",
              "            '<a target=\"_blank\" href=https://colab.research.google.com/notebooks/data_table.ipynb>data table notebook</a>'\n",
              "            + ' to learn more about interactive tables.';\n",
              "          element.innerHTML = '';\n",
              "          dataTable['output_type'] = 'display_data';\n",
              "          await google.colab.output.renderOutput(dataTable, element);\n",
              "          const docLink = document.createElement('div');\n",
              "          docLink.innerHTML = docLinkHtml;\n",
              "          element.appendChild(docLink);\n",
              "        }\n",
              "      </script>\n",
              "    </div>\n",
              "  </div>\n",
              "  "
            ]
          },
          "metadata": {},
          "execution_count": 3
        }
      ]
    },
    {
      "cell_type": "code",
      "source": [
        "#membuat variabel x dan y\n",
        "x = df.iloc[:, 2:7]\n",
        "y = df.iloc[:, 2]\n"
      ],
      "metadata": {
        "id": "1gkTDE9kdR9f"
      },
      "execution_count": null,
      "outputs": []
    },
    {
      "cell_type": "code",
      "source": [
        "#membagi dataset menjadi data training dan data testing\n",
        "x_train, x_test, y_train, y_test = train_test_split(x, y, test_size = 0.4, random_state=0)\n"
      ],
      "metadata": {
        "id": "hTpyMOmu6TBg"
      },
      "execution_count": null,
      "outputs": []
    },
    {
      "cell_type": "code",
      "source": [
        "#mengecek shape dari data training & data testing\n",
        "print(x_train.shape)\n",
        "print(x_test.shape)\n",
        "print(y_train.shape)\n",
        "print(y_test.shape)"
      ],
      "metadata": {
        "colab": {
          "base_uri": "https://localhost:8080/"
        },
        "id": "nT1MZODk7UBy",
        "outputId": "ef7b48c4-4439-4fa2-d71d-396818cad210"
      },
      "execution_count": null,
      "outputs": [
        {
          "output_type": "stream",
          "name": "stdout",
          "text": [
            "(606, 5)\n",
            "(404, 5)\n",
            "(606,)\n",
            "(404,)\n"
          ]
        }
      ]
    },
    {
      "cell_type": "code",
      "source": [
        "# Fitting Linear Regression ke dataset\n",
        "poly = LinearRegression()\n",
        "poly.fit(x, y)"
      ],
      "metadata": {
        "colab": {
          "base_uri": "https://localhost:8080/"
        },
        "id": "nqKB01no6JS9",
        "outputId": "0a422716-d563-441a-e398-e3f8c8265b5c"
      },
      "execution_count": null,
      "outputs": [
        {
          "output_type": "execute_result",
          "data": {
            "text/plain": [
              "LinearRegression()"
            ]
          },
          "metadata": {},
          "execution_count": 70
        }
      ]
    },
    {
      "cell_type": "code",
      "source": [
        "# Fitting polynomial regression ke dataset\n",
        "from sklearn.preprocessing import PolynomialFeatures\n",
        "\n",
        "poly_reg = PolynomialFeatures(degree=4)\n",
        "poly_reg.fit(x_train)\n",
        "x_train_poly = poly_reg.transform(x_train)\n",
        "x_test_poly = poly_reg.transform(x_test)\n",
        "\n",
        "poly = LinearRegression()\n",
        "poly.fit(x_train_poly, y_train)\n",
        "\n",
        "y_pred = poly.predict(x_test_poly)\n",
        "\n",
        "poly.score(x_test_poly, y_test)\n"
      ],
      "metadata": {
        "colab": {
          "base_uri": "https://localhost:8080/"
        },
        "id": "7gIuFJcH6J8N",
        "outputId": "48924e0d-b815-46da-bc87-06f016692d16"
      },
      "execution_count": null,
      "outputs": [
        {
          "output_type": "execute_result",
          "data": {
            "text/plain": [
              "0.9999999999954322"
            ]
          },
          "metadata": {},
          "execution_count": 71
        }
      ]
    },
    {
      "cell_type": "code",
      "source": [
        "# Pengujian Akurasi  \n",
        "\n",
        "from sklearn.metrics import mean_squared_error, r2_score\n",
        "\n",
        "print(\"RMSE: \", np.sqrt(mean_squared_error(y_test, y_pred)))\n",
        "print(\"R2: \",r2_score(y_test, y_pred))"
      ],
      "metadata": {
        "colab": {
          "base_uri": "https://localhost:8080/"
        },
        "id": "ZCWHA0nxdSJg",
        "outputId": "3ce653cb-898d-4a59-857f-323e7eeb9329"
      },
      "execution_count": null,
      "outputs": [
        {
          "output_type": "stream",
          "name": "stdout",
          "text": [
            "RMSE:  0.00040382440532378013\n",
            "R2:  0.9999999999954322\n"
          ]
        }
      ]
    },
    {
      "cell_type": "code",
      "source": [
        ""
      ],
      "metadata": {
        "id": "-yMwPI0e8qr3"
      },
      "execution_count": null,
      "outputs": []
    },
    {
      "cell_type": "code",
      "source": [
        ""
      ],
      "metadata": {
        "id": "u3JIMA1k8qxo"
      },
      "execution_count": null,
      "outputs": []
    },
    {
      "cell_type": "markdown",
      "source": [
        "**C. Support Vector Regression**"
      ],
      "metadata": {
        "id": "6YXx45mRlo9L"
      }
    },
    {
      "cell_type": "code",
      "source": [
        " # Importing the libraries \n",
        "import os\n",
        "import numpy as np\n",
        "import pandas as pd\n",
        "import matplotlib.pyplot as plt\n",
        "import seaborn as sns\n",
        "from pylab import rcParams"
      ],
      "metadata": {
        "id": "y_rFSd5nHVuf"
      },
      "execution_count": null,
      "outputs": []
    },
    {
      "cell_type": "code",
      "source": [
        "df = pd.read_csv('data_harga_rumah.csv', usecols=['NAMA RUMAH', 'HARGA', 'LB', 'LT', 'KT', 'KM', 'GRS'], encoding='latin-1')"
      ],
      "metadata": {
        "id": "7J4YTWiy3g1K"
      },
      "execution_count": null,
      "outputs": []
    },
    {
      "cell_type": "code",
      "source": [
        "df.head()"
      ],
      "metadata": {
        "colab": {
          "base_uri": "https://localhost:8080/",
          "height": 206
        },
        "id": "u_O3rNvIl8jU",
        "outputId": "1fe34784-e1f6-4e7a-dcd9-c2fd617da69e"
      },
      "execution_count": null,
      "outputs": [
        {
          "output_type": "execute_result",
          "data": {
            "text/plain": [
              "                                          NAMA RUMAH       HARGA   LB   LT  \\\n",
              "0  Rumah Murah Hook Tebet Timur, Tebet, Jakarta S...  3800000000  220  220   \n",
              "1  Rumah Modern di Tebet dekat Stasiun, Tebet, Ja...  4600000000  180  137   \n",
              "2  Rumah Mewah 2 Lantai Hanya 3 Menit Ke Tebet, T...  3000000000  267  250   \n",
              "3           Rumah Baru Tebet, Tebet, Jakarta Selatan   430000000   40   25   \n",
              "4  Rumah Bagus Tebet komp Gudang Peluru lt 350m, ...  9000000000  400  355   \n",
              "\n",
              "   KT  KM  GRS  \n",
              "0   3   3    0  \n",
              "1   4   3    2  \n",
              "2   4   4    4  \n",
              "3   2   2    0  \n",
              "4   6   5    3  "
            ],
            "text/html": [
              "\n",
              "  <div id=\"df-bf964b1e-af4a-43a5-8597-082dc60972d2\">\n",
              "    <div class=\"colab-df-container\">\n",
              "      <div>\n",
              "<style scoped>\n",
              "    .dataframe tbody tr th:only-of-type {\n",
              "        vertical-align: middle;\n",
              "    }\n",
              "\n",
              "    .dataframe tbody tr th {\n",
              "        vertical-align: top;\n",
              "    }\n",
              "\n",
              "    .dataframe thead th {\n",
              "        text-align: right;\n",
              "    }\n",
              "</style>\n",
              "<table border=\"1\" class=\"dataframe\">\n",
              "  <thead>\n",
              "    <tr style=\"text-align: right;\">\n",
              "      <th></th>\n",
              "      <th>NAMA RUMAH</th>\n",
              "      <th>HARGA</th>\n",
              "      <th>LB</th>\n",
              "      <th>LT</th>\n",
              "      <th>KT</th>\n",
              "      <th>KM</th>\n",
              "      <th>GRS</th>\n",
              "    </tr>\n",
              "  </thead>\n",
              "  <tbody>\n",
              "    <tr>\n",
              "      <th>0</th>\n",
              "      <td>Rumah Murah Hook Tebet Timur, Tebet, Jakarta S...</td>\n",
              "      <td>3800000000</td>\n",
              "      <td>220</td>\n",
              "      <td>220</td>\n",
              "      <td>3</td>\n",
              "      <td>3</td>\n",
              "      <td>0</td>\n",
              "    </tr>\n",
              "    <tr>\n",
              "      <th>1</th>\n",
              "      <td>Rumah Modern di Tebet dekat Stasiun, Tebet, Ja...</td>\n",
              "      <td>4600000000</td>\n",
              "      <td>180</td>\n",
              "      <td>137</td>\n",
              "      <td>4</td>\n",
              "      <td>3</td>\n",
              "      <td>2</td>\n",
              "    </tr>\n",
              "    <tr>\n",
              "      <th>2</th>\n",
              "      <td>Rumah Mewah 2 Lantai Hanya 3 Menit Ke Tebet, T...</td>\n",
              "      <td>3000000000</td>\n",
              "      <td>267</td>\n",
              "      <td>250</td>\n",
              "      <td>4</td>\n",
              "      <td>4</td>\n",
              "      <td>4</td>\n",
              "    </tr>\n",
              "    <tr>\n",
              "      <th>3</th>\n",
              "      <td>Rumah Baru Tebet, Tebet, Jakarta Selatan</td>\n",
              "      <td>430000000</td>\n",
              "      <td>40</td>\n",
              "      <td>25</td>\n",
              "      <td>2</td>\n",
              "      <td>2</td>\n",
              "      <td>0</td>\n",
              "    </tr>\n",
              "    <tr>\n",
              "      <th>4</th>\n",
              "      <td>Rumah Bagus Tebet komp Gudang Peluru lt 350m, ...</td>\n",
              "      <td>9000000000</td>\n",
              "      <td>400</td>\n",
              "      <td>355</td>\n",
              "      <td>6</td>\n",
              "      <td>5</td>\n",
              "      <td>3</td>\n",
              "    </tr>\n",
              "  </tbody>\n",
              "</table>\n",
              "</div>\n",
              "      <button class=\"colab-df-convert\" onclick=\"convertToInteractive('df-bf964b1e-af4a-43a5-8597-082dc60972d2')\"\n",
              "              title=\"Convert this dataframe to an interactive table.\"\n",
              "              style=\"display:none;\">\n",
              "        \n",
              "  <svg xmlns=\"http://www.w3.org/2000/svg\" height=\"24px\"viewBox=\"0 0 24 24\"\n",
              "       width=\"24px\">\n",
              "    <path d=\"M0 0h24v24H0V0z\" fill=\"none\"/>\n",
              "    <path d=\"M18.56 5.44l.94 2.06.94-2.06 2.06-.94-2.06-.94-.94-2.06-.94 2.06-2.06.94zm-11 1L8.5 8.5l.94-2.06 2.06-.94-2.06-.94L8.5 2.5l-.94 2.06-2.06.94zm10 10l.94 2.06.94-2.06 2.06-.94-2.06-.94-.94-2.06-.94 2.06-2.06.94z\"/><path d=\"M17.41 7.96l-1.37-1.37c-.4-.4-.92-.59-1.43-.59-.52 0-1.04.2-1.43.59L10.3 9.45l-7.72 7.72c-.78.78-.78 2.05 0 2.83L4 21.41c.39.39.9.59 1.41.59.51 0 1.02-.2 1.41-.59l7.78-7.78 2.81-2.81c.8-.78.8-2.07 0-2.86zM5.41 20L4 18.59l7.72-7.72 1.47 1.35L5.41 20z\"/>\n",
              "  </svg>\n",
              "      </button>\n",
              "      \n",
              "  <style>\n",
              "    .colab-df-container {\n",
              "      display:flex;\n",
              "      flex-wrap:wrap;\n",
              "      gap: 12px;\n",
              "    }\n",
              "\n",
              "    .colab-df-convert {\n",
              "      background-color: #E8F0FE;\n",
              "      border: none;\n",
              "      border-radius: 50%;\n",
              "      cursor: pointer;\n",
              "      display: none;\n",
              "      fill: #1967D2;\n",
              "      height: 32px;\n",
              "      padding: 0 0 0 0;\n",
              "      width: 32px;\n",
              "    }\n",
              "\n",
              "    .colab-df-convert:hover {\n",
              "      background-color: #E2EBFA;\n",
              "      box-shadow: 0px 1px 2px rgba(60, 64, 67, 0.3), 0px 1px 3px 1px rgba(60, 64, 67, 0.15);\n",
              "      fill: #174EA6;\n",
              "    }\n",
              "\n",
              "    [theme=dark] .colab-df-convert {\n",
              "      background-color: #3B4455;\n",
              "      fill: #D2E3FC;\n",
              "    }\n",
              "\n",
              "    [theme=dark] .colab-df-convert:hover {\n",
              "      background-color: #434B5C;\n",
              "      box-shadow: 0px 1px 3px 1px rgba(0, 0, 0, 0.15);\n",
              "      filter: drop-shadow(0px 1px 2px rgba(0, 0, 0, 0.3));\n",
              "      fill: #FFFFFF;\n",
              "    }\n",
              "  </style>\n",
              "\n",
              "      <script>\n",
              "        const buttonEl =\n",
              "          document.querySelector('#df-bf964b1e-af4a-43a5-8597-082dc60972d2 button.colab-df-convert');\n",
              "        buttonEl.style.display =\n",
              "          google.colab.kernel.accessAllowed ? 'block' : 'none';\n",
              "\n",
              "        async function convertToInteractive(key) {\n",
              "          const element = document.querySelector('#df-bf964b1e-af4a-43a5-8597-082dc60972d2');\n",
              "          const dataTable =\n",
              "            await google.colab.kernel.invokeFunction('convertToInteractive',\n",
              "                                                     [key], {});\n",
              "          if (!dataTable) return;\n",
              "\n",
              "          const docLinkHtml = 'Like what you see? Visit the ' +\n",
              "            '<a target=\"_blank\" href=https://colab.research.google.com/notebooks/data_table.ipynb>data table notebook</a>'\n",
              "            + ' to learn more about interactive tables.';\n",
              "          element.innerHTML = '';\n",
              "          dataTable['output_type'] = 'display_data';\n",
              "          await google.colab.output.renderOutput(dataTable, element);\n",
              "          const docLink = document.createElement('div');\n",
              "          docLink.innerHTML = docLinkHtml;\n",
              "          element.appendChild(docLink);\n",
              "        }\n",
              "      </script>\n",
              "    </div>\n",
              "  </div>\n",
              "  "
            ]
          },
          "metadata": {},
          "execution_count": 39
        }
      ]
    },
    {
      "cell_type": "code",
      "source": [
        ""
      ],
      "metadata": {
        "id": "ObMhOxC72_Fp"
      },
      "execution_count": null,
      "outputs": []
    },
    {
      "cell_type": "code",
      "source": [
        "# membuat variable x dan y \n",
        "X = df.iloc[:, 2:7]\n",
        "y = df.iloc[:, 2]"
      ],
      "metadata": {
        "id": "XIW0Hficl5PZ"
      },
      "execution_count": null,
      "outputs": []
    },
    {
      "cell_type": "code",
      "source": [
        "# membuat skalar\n",
        "\n",
        "from sklearn.preprocessing import StandardScaler\n",
        "sc = StandardScaler()\n",
        "X_scaled = sc.fit_transform(X)\n",
        "X_scaled"
      ],
      "metadata": {
        "id": "FbW1fFMr9TAl",
        "colab": {
          "base_uri": "https://localhost:8080/"
        },
        "outputId": "a2622712-9da1-4481-eb29-6c691520ee7a"
      },
      "execution_count": null,
      "outputs": [
        {
          "output_type": "execute_result",
          "data": {
            "text/plain": [
              "array([[-0.31803759, -0.09691899, -1.06127231, -0.42830543, -1.27183723],\n",
              "       [-0.54303923, -0.55836723, -0.42513876, -0.42830543,  0.0524469 ],\n",
              "       [-0.05366066,  0.06986953, -0.42513876,  0.27623608,  1.37673103],\n",
              "       ...,\n",
              "       [-0.7736659 , -0.04132282, -0.42513876,  0.27623608, -0.60969517],\n",
              "       [ 0.46946815,  2.0490933 ,  1.4832619 ,  0.27623608, -1.27183723],\n",
              "       [ 0.8069706 ,  1.07060065,  1.4832619 ,  0.27623608,  0.0524469 ]])"
            ]
          },
          "metadata": {},
          "execution_count": 42
        }
      ]
    },
    {
      "cell_type": "code",
      "source": [
        "#men-split data testing\n",
        "from sklearn.model_selection import train_test_split\n",
        "X_train, X_test, y_train, y_test = train_test_split(X_scaled, y, test_size=0.4, random_state=0)\n",
        "X_train = pd.DataFrame(X_train, columns = X.columns)\n",
        "X_test = pd.DataFrame(X_test, columns=X.columns)"
      ],
      "metadata": {
        "id": "88bRHoRdmKq7"
      },
      "execution_count": null,
      "outputs": []
    },
    {
      "cell_type": "code",
      "source": [
        "#mengecek shape dari data training & data testing\n",
        "print(X_train.shape)\n",
        "print(X_test.shape)\n",
        "print(y_train.shape)\n",
        "print(y_test.shape)"
      ],
      "metadata": {
        "colab": {
          "base_uri": "https://localhost:8080/"
        },
        "id": "b4UAXoIGmKtx",
        "outputId": "3fdc5522-abd0-4a60-907d-f0e6002fcb67"
      },
      "execution_count": null,
      "outputs": [
        {
          "output_type": "stream",
          "name": "stdout",
          "text": [
            "(606, 5)\n",
            "(404, 5)\n",
            "(606,)\n",
            "(404,)\n"
          ]
        }
      ]
    },
    {
      "cell_type": "code",
      "source": [
        "#akurasi model menggunakan data testing yang sudah di-split"
      ],
      "metadata": {
        "id": "1PVPQRNKm9wl"
      },
      "execution_count": null,
      "outputs": []
    },
    {
      "cell_type": "code",
      "source": [
        "from sklearn import svm\n",
        "from sklearn.svm import SVR\n",
        "\n",
        "svr_rbf = svm.SVR(kernel ='rbf', C=10**3, gamma=0.1)\n",
        "y_pred = svr_rbf.fit(X_train, y_train)\n",
        "y_pred = svr_rbf.predict(X_test)\n",
        "svr_rbf.score(X_test,y_test)"
      ],
      "metadata": {
        "colab": {
          "base_uri": "https://localhost:8080/"
        },
        "id": "S2aPQZsrnUDK",
        "outputId": "5ab5ad49-ca23-4389-b88a-da4e9d0e75f2"
      },
      "execution_count": null,
      "outputs": [
        {
          "output_type": "execute_result",
          "data": {
            "text/plain": [
              "0.9727367696636435"
            ]
          },
          "metadata": {},
          "execution_count": 45
        }
      ]
    },
    {
      "cell_type": "code",
      "source": [
        ""
      ],
      "metadata": {
        "id": "f1UsmYFe4BCt"
      },
      "execution_count": null,
      "outputs": []
    },
    {
      "cell_type": "code",
      "source": [
        "#import library untuk pengujian akurasi R2 dan RMSE\n",
        "\n",
        "import sklearn\n",
        "from sklearn.metrics import mean_squared_error, r2_score\n",
        "from sklearn.linear_model import Ridge, Lasso, ElasticNet\n",
        "from sklearn.ensemble import RandomForestRegressor\n",
        "from xgboost import XGBRegressor\n",
        "from lightgbm import LGBMRegressor"
      ],
      "metadata": {
        "id": "gGmPY4N14BJ1"
      },
      "execution_count": null,
      "outputs": []
    },
    {
      "cell_type": "code",
      "source": [
        "#Feature Scaling (Standardization)\n",
        "\n",
        "std = StandardScaler()\n",
        "\n",
        "print('\\033[1mStandardardization on Training set'.center(120))\n",
        "Train_X_std = std.fit_transform(X_train)\n",
        "Train_X_std = pd.DataFrame(Train_X_std, columns=X.columns)\n",
        "display(Train_X_std.describe())\n",
        "\n",
        "print('\\n','\\033[1mStandardardization on Testing set'.center(120))\n",
        "Test_X_std = std.transform(X_test)\n",
        "Test_X_std = pd.DataFrame(Test_X_std, columns=X.columns)\n",
        "display(Test_X_std.describe())"
      ],
      "metadata": {
        "colab": {
          "base_uri": "https://localhost:8080/",
          "height": 637
        },
        "id": "UbYWWDcj4BMw",
        "outputId": "e6b56a6d-769a-4b5d-a05e-d3b426b52951"
      },
      "execution_count": null,
      "outputs": [
        {
          "output_type": "stream",
          "name": "stdout",
          "text": [
            "                                         \u001b[1mStandardardization on Training set                                         \n"
          ]
        },
        {
          "output_type": "display_data",
          "data": {
            "text/plain": [
              "                 LB            LT            KT            KM           GRS\n",
              "count  6.060000e+02  6.060000e+02  6.060000e+02  6.060000e+02  6.060000e+02\n",
              "mean   9.430484e-17  2.129760e-17  4.955698e-17 -6.137372e-17  4.103795e-17\n",
              "std    1.000826e+00  1.000826e+00  1.000826e+00  1.000826e+00  1.000826e+00\n",
              "min   -1.397439e+00 -1.198085e+00 -1.733124e+00 -1.835896e+00 -1.236871e+00\n",
              "25%   -6.912075e-01 -6.226937e-01 -4.332809e-01 -4.195331e-01 -5.873530e-01\n",
              "50%   -3.410344e-01 -3.897974e-01 -4.332809e-01 -4.195331e-01  6.216509e-02\n",
              "75%    4.269923e-01  3.308114e-01  2.166405e-01  2.886481e-01  6.216509e-02\n",
              "max    4.723234e+00  5.377813e+00  3.466247e+00  4.537736e+00  5.258310e+00"
            ],
            "text/html": [
              "\n",
              "  <div id=\"df-bc80afad-ab56-46a1-9ee9-c3702d2f3d73\">\n",
              "    <div class=\"colab-df-container\">\n",
              "      <div>\n",
              "<style scoped>\n",
              "    .dataframe tbody tr th:only-of-type {\n",
              "        vertical-align: middle;\n",
              "    }\n",
              "\n",
              "    .dataframe tbody tr th {\n",
              "        vertical-align: top;\n",
              "    }\n",
              "\n",
              "    .dataframe thead th {\n",
              "        text-align: right;\n",
              "    }\n",
              "</style>\n",
              "<table border=\"1\" class=\"dataframe\">\n",
              "  <thead>\n",
              "    <tr style=\"text-align: right;\">\n",
              "      <th></th>\n",
              "      <th>LB</th>\n",
              "      <th>LT</th>\n",
              "      <th>KT</th>\n",
              "      <th>KM</th>\n",
              "      <th>GRS</th>\n",
              "    </tr>\n",
              "  </thead>\n",
              "  <tbody>\n",
              "    <tr>\n",
              "      <th>count</th>\n",
              "      <td>6.060000e+02</td>\n",
              "      <td>6.060000e+02</td>\n",
              "      <td>6.060000e+02</td>\n",
              "      <td>6.060000e+02</td>\n",
              "      <td>6.060000e+02</td>\n",
              "    </tr>\n",
              "    <tr>\n",
              "      <th>mean</th>\n",
              "      <td>9.430484e-17</td>\n",
              "      <td>2.129760e-17</td>\n",
              "      <td>4.955698e-17</td>\n",
              "      <td>-6.137372e-17</td>\n",
              "      <td>4.103795e-17</td>\n",
              "    </tr>\n",
              "    <tr>\n",
              "      <th>std</th>\n",
              "      <td>1.000826e+00</td>\n",
              "      <td>1.000826e+00</td>\n",
              "      <td>1.000826e+00</td>\n",
              "      <td>1.000826e+00</td>\n",
              "      <td>1.000826e+00</td>\n",
              "    </tr>\n",
              "    <tr>\n",
              "      <th>min</th>\n",
              "      <td>-1.397439e+00</td>\n",
              "      <td>-1.198085e+00</td>\n",
              "      <td>-1.733124e+00</td>\n",
              "      <td>-1.835896e+00</td>\n",
              "      <td>-1.236871e+00</td>\n",
              "    </tr>\n",
              "    <tr>\n",
              "      <th>25%</th>\n",
              "      <td>-6.912075e-01</td>\n",
              "      <td>-6.226937e-01</td>\n",
              "      <td>-4.332809e-01</td>\n",
              "      <td>-4.195331e-01</td>\n",
              "      <td>-5.873530e-01</td>\n",
              "    </tr>\n",
              "    <tr>\n",
              "      <th>50%</th>\n",
              "      <td>-3.410344e-01</td>\n",
              "      <td>-3.897974e-01</td>\n",
              "      <td>-4.332809e-01</td>\n",
              "      <td>-4.195331e-01</td>\n",
              "      <td>6.216509e-02</td>\n",
              "    </tr>\n",
              "    <tr>\n",
              "      <th>75%</th>\n",
              "      <td>4.269923e-01</td>\n",
              "      <td>3.308114e-01</td>\n",
              "      <td>2.166405e-01</td>\n",
              "      <td>2.886481e-01</td>\n",
              "      <td>6.216509e-02</td>\n",
              "    </tr>\n",
              "    <tr>\n",
              "      <th>max</th>\n",
              "      <td>4.723234e+00</td>\n",
              "      <td>5.377813e+00</td>\n",
              "      <td>3.466247e+00</td>\n",
              "      <td>4.537736e+00</td>\n",
              "      <td>5.258310e+00</td>\n",
              "    </tr>\n",
              "  </tbody>\n",
              "</table>\n",
              "</div>\n",
              "      <button class=\"colab-df-convert\" onclick=\"convertToInteractive('df-bc80afad-ab56-46a1-9ee9-c3702d2f3d73')\"\n",
              "              title=\"Convert this dataframe to an interactive table.\"\n",
              "              style=\"display:none;\">\n",
              "        \n",
              "  <svg xmlns=\"http://www.w3.org/2000/svg\" height=\"24px\"viewBox=\"0 0 24 24\"\n",
              "       width=\"24px\">\n",
              "    <path d=\"M0 0h24v24H0V0z\" fill=\"none\"/>\n",
              "    <path d=\"M18.56 5.44l.94 2.06.94-2.06 2.06-.94-2.06-.94-.94-2.06-.94 2.06-2.06.94zm-11 1L8.5 8.5l.94-2.06 2.06-.94-2.06-.94L8.5 2.5l-.94 2.06-2.06.94zm10 10l.94 2.06.94-2.06 2.06-.94-2.06-.94-.94-2.06-.94 2.06-2.06.94z\"/><path d=\"M17.41 7.96l-1.37-1.37c-.4-.4-.92-.59-1.43-.59-.52 0-1.04.2-1.43.59L10.3 9.45l-7.72 7.72c-.78.78-.78 2.05 0 2.83L4 21.41c.39.39.9.59 1.41.59.51 0 1.02-.2 1.41-.59l7.78-7.78 2.81-2.81c.8-.78.8-2.07 0-2.86zM5.41 20L4 18.59l7.72-7.72 1.47 1.35L5.41 20z\"/>\n",
              "  </svg>\n",
              "      </button>\n",
              "      \n",
              "  <style>\n",
              "    .colab-df-container {\n",
              "      display:flex;\n",
              "      flex-wrap:wrap;\n",
              "      gap: 12px;\n",
              "    }\n",
              "\n",
              "    .colab-df-convert {\n",
              "      background-color: #E8F0FE;\n",
              "      border: none;\n",
              "      border-radius: 50%;\n",
              "      cursor: pointer;\n",
              "      display: none;\n",
              "      fill: #1967D2;\n",
              "      height: 32px;\n",
              "      padding: 0 0 0 0;\n",
              "      width: 32px;\n",
              "    }\n",
              "\n",
              "    .colab-df-convert:hover {\n",
              "      background-color: #E2EBFA;\n",
              "      box-shadow: 0px 1px 2px rgba(60, 64, 67, 0.3), 0px 1px 3px 1px rgba(60, 64, 67, 0.15);\n",
              "      fill: #174EA6;\n",
              "    }\n",
              "\n",
              "    [theme=dark] .colab-df-convert {\n",
              "      background-color: #3B4455;\n",
              "      fill: #D2E3FC;\n",
              "    }\n",
              "\n",
              "    [theme=dark] .colab-df-convert:hover {\n",
              "      background-color: #434B5C;\n",
              "      box-shadow: 0px 1px 3px 1px rgba(0, 0, 0, 0.15);\n",
              "      filter: drop-shadow(0px 1px 2px rgba(0, 0, 0, 0.3));\n",
              "      fill: #FFFFFF;\n",
              "    }\n",
              "  </style>\n",
              "\n",
              "      <script>\n",
              "        const buttonEl =\n",
              "          document.querySelector('#df-bc80afad-ab56-46a1-9ee9-c3702d2f3d73 button.colab-df-convert');\n",
              "        buttonEl.style.display =\n",
              "          google.colab.kernel.accessAllowed ? 'block' : 'none';\n",
              "\n",
              "        async function convertToInteractive(key) {\n",
              "          const element = document.querySelector('#df-bc80afad-ab56-46a1-9ee9-c3702d2f3d73');\n",
              "          const dataTable =\n",
              "            await google.colab.kernel.invokeFunction('convertToInteractive',\n",
              "                                                     [key], {});\n",
              "          if (!dataTable) return;\n",
              "\n",
              "          const docLinkHtml = 'Like what you see? Visit the ' +\n",
              "            '<a target=\"_blank\" href=https://colab.research.google.com/notebooks/data_table.ipynb>data table notebook</a>'\n",
              "            + ' to learn more about interactive tables.';\n",
              "          element.innerHTML = '';\n",
              "          dataTable['output_type'] = 'display_data';\n",
              "          await google.colab.output.renderOutput(dataTable, element);\n",
              "          const docLink = document.createElement('div');\n",
              "          docLink.innerHTML = docLinkHtml;\n",
              "          element.appendChild(docLink);\n",
              "        }\n",
              "      </script>\n",
              "    </div>\n",
              "  </div>\n",
              "  "
            ]
          },
          "metadata": {}
        },
        {
          "output_type": "stream",
          "name": "stdout",
          "text": [
            "\n",
            "                                          \u001b[1mStandardardization on Testing set                                          \n"
          ]
        },
        {
          "output_type": "display_data",
          "data": {
            "text/plain": [
              "               LB          LT          KT          KM         GRS\n",
              "count  404.000000  404.000000  404.000000  404.000000  404.000000\n",
              "mean    -0.013354   -0.084930    0.002681    0.027462    0.026795\n",
              "std      1.113381    0.962704    1.054654    1.013898    0.952574\n",
              "min     -1.303275   -1.170685   -1.733124   -1.835896   -1.236871\n",
              "25%     -0.750060   -0.640503   -0.433281   -0.419533   -0.587353\n",
              "50%     -0.394002   -0.482956   -0.433281   -0.419533    0.062165\n",
              "75%      0.426992    0.155454    0.216640    0.288648    0.062165\n",
              "max      4.993956    6.336798    3.466247    4.537736    5.258310"
            ],
            "text/html": [
              "\n",
              "  <div id=\"df-76f5f1a6-1492-4269-ab9a-28755f5ac778\">\n",
              "    <div class=\"colab-df-container\">\n",
              "      <div>\n",
              "<style scoped>\n",
              "    .dataframe tbody tr th:only-of-type {\n",
              "        vertical-align: middle;\n",
              "    }\n",
              "\n",
              "    .dataframe tbody tr th {\n",
              "        vertical-align: top;\n",
              "    }\n",
              "\n",
              "    .dataframe thead th {\n",
              "        text-align: right;\n",
              "    }\n",
              "</style>\n",
              "<table border=\"1\" class=\"dataframe\">\n",
              "  <thead>\n",
              "    <tr style=\"text-align: right;\">\n",
              "      <th></th>\n",
              "      <th>LB</th>\n",
              "      <th>LT</th>\n",
              "      <th>KT</th>\n",
              "      <th>KM</th>\n",
              "      <th>GRS</th>\n",
              "    </tr>\n",
              "  </thead>\n",
              "  <tbody>\n",
              "    <tr>\n",
              "      <th>count</th>\n",
              "      <td>404.000000</td>\n",
              "      <td>404.000000</td>\n",
              "      <td>404.000000</td>\n",
              "      <td>404.000000</td>\n",
              "      <td>404.000000</td>\n",
              "    </tr>\n",
              "    <tr>\n",
              "      <th>mean</th>\n",
              "      <td>-0.013354</td>\n",
              "      <td>-0.084930</td>\n",
              "      <td>0.002681</td>\n",
              "      <td>0.027462</td>\n",
              "      <td>0.026795</td>\n",
              "    </tr>\n",
              "    <tr>\n",
              "      <th>std</th>\n",
              "      <td>1.113381</td>\n",
              "      <td>0.962704</td>\n",
              "      <td>1.054654</td>\n",
              "      <td>1.013898</td>\n",
              "      <td>0.952574</td>\n",
              "    </tr>\n",
              "    <tr>\n",
              "      <th>min</th>\n",
              "      <td>-1.303275</td>\n",
              "      <td>-1.170685</td>\n",
              "      <td>-1.733124</td>\n",
              "      <td>-1.835896</td>\n",
              "      <td>-1.236871</td>\n",
              "    </tr>\n",
              "    <tr>\n",
              "      <th>25%</th>\n",
              "      <td>-0.750060</td>\n",
              "      <td>-0.640503</td>\n",
              "      <td>-0.433281</td>\n",
              "      <td>-0.419533</td>\n",
              "      <td>-0.587353</td>\n",
              "    </tr>\n",
              "    <tr>\n",
              "      <th>50%</th>\n",
              "      <td>-0.394002</td>\n",
              "      <td>-0.482956</td>\n",
              "      <td>-0.433281</td>\n",
              "      <td>-0.419533</td>\n",
              "      <td>0.062165</td>\n",
              "    </tr>\n",
              "    <tr>\n",
              "      <th>75%</th>\n",
              "      <td>0.426992</td>\n",
              "      <td>0.155454</td>\n",
              "      <td>0.216640</td>\n",
              "      <td>0.288648</td>\n",
              "      <td>0.062165</td>\n",
              "    </tr>\n",
              "    <tr>\n",
              "      <th>max</th>\n",
              "      <td>4.993956</td>\n",
              "      <td>6.336798</td>\n",
              "      <td>3.466247</td>\n",
              "      <td>4.537736</td>\n",
              "      <td>5.258310</td>\n",
              "    </tr>\n",
              "  </tbody>\n",
              "</table>\n",
              "</div>\n",
              "      <button class=\"colab-df-convert\" onclick=\"convertToInteractive('df-76f5f1a6-1492-4269-ab9a-28755f5ac778')\"\n",
              "              title=\"Convert this dataframe to an interactive table.\"\n",
              "              style=\"display:none;\">\n",
              "        \n",
              "  <svg xmlns=\"http://www.w3.org/2000/svg\" height=\"24px\"viewBox=\"0 0 24 24\"\n",
              "       width=\"24px\">\n",
              "    <path d=\"M0 0h24v24H0V0z\" fill=\"none\"/>\n",
              "    <path d=\"M18.56 5.44l.94 2.06.94-2.06 2.06-.94-2.06-.94-.94-2.06-.94 2.06-2.06.94zm-11 1L8.5 8.5l.94-2.06 2.06-.94-2.06-.94L8.5 2.5l-.94 2.06-2.06.94zm10 10l.94 2.06.94-2.06 2.06-.94-2.06-.94-.94-2.06-.94 2.06-2.06.94z\"/><path d=\"M17.41 7.96l-1.37-1.37c-.4-.4-.92-.59-1.43-.59-.52 0-1.04.2-1.43.59L10.3 9.45l-7.72 7.72c-.78.78-.78 2.05 0 2.83L4 21.41c.39.39.9.59 1.41.59.51 0 1.02-.2 1.41-.59l7.78-7.78 2.81-2.81c.8-.78.8-2.07 0-2.86zM5.41 20L4 18.59l7.72-7.72 1.47 1.35L5.41 20z\"/>\n",
              "  </svg>\n",
              "      </button>\n",
              "      \n",
              "  <style>\n",
              "    .colab-df-container {\n",
              "      display:flex;\n",
              "      flex-wrap:wrap;\n",
              "      gap: 12px;\n",
              "    }\n",
              "\n",
              "    .colab-df-convert {\n",
              "      background-color: #E8F0FE;\n",
              "      border: none;\n",
              "      border-radius: 50%;\n",
              "      cursor: pointer;\n",
              "      display: none;\n",
              "      fill: #1967D2;\n",
              "      height: 32px;\n",
              "      padding: 0 0 0 0;\n",
              "      width: 32px;\n",
              "    }\n",
              "\n",
              "    .colab-df-convert:hover {\n",
              "      background-color: #E2EBFA;\n",
              "      box-shadow: 0px 1px 2px rgba(60, 64, 67, 0.3), 0px 1px 3px 1px rgba(60, 64, 67, 0.15);\n",
              "      fill: #174EA6;\n",
              "    }\n",
              "\n",
              "    [theme=dark] .colab-df-convert {\n",
              "      background-color: #3B4455;\n",
              "      fill: #D2E3FC;\n",
              "    }\n",
              "\n",
              "    [theme=dark] .colab-df-convert:hover {\n",
              "      background-color: #434B5C;\n",
              "      box-shadow: 0px 1px 3px 1px rgba(0, 0, 0, 0.15);\n",
              "      filter: drop-shadow(0px 1px 2px rgba(0, 0, 0, 0.3));\n",
              "      fill: #FFFFFF;\n",
              "    }\n",
              "  </style>\n",
              "\n",
              "      <script>\n",
              "        const buttonEl =\n",
              "          document.querySelector('#df-76f5f1a6-1492-4269-ab9a-28755f5ac778 button.colab-df-convert');\n",
              "        buttonEl.style.display =\n",
              "          google.colab.kernel.accessAllowed ? 'block' : 'none';\n",
              "\n",
              "        async function convertToInteractive(key) {\n",
              "          const element = document.querySelector('#df-76f5f1a6-1492-4269-ab9a-28755f5ac778');\n",
              "          const dataTable =\n",
              "            await google.colab.kernel.invokeFunction('convertToInteractive',\n",
              "                                                     [key], {});\n",
              "          if (!dataTable) return;\n",
              "\n",
              "          const docLinkHtml = 'Like what you see? Visit the ' +\n",
              "            '<a target=\"_blank\" href=https://colab.research.google.com/notebooks/data_table.ipynb>data table notebook</a>'\n",
              "            + ' to learn more about interactive tables.';\n",
              "          element.innerHTML = '';\n",
              "          dataTable['output_type'] = 'display_data';\n",
              "          await google.colab.output.renderOutput(dataTable, element);\n",
              "          const docLink = document.createElement('div');\n",
              "          docLink.innerHTML = docLinkHtml;\n",
              "          element.appendChild(docLink);\n",
              "        }\n",
              "      </script>\n",
              "    </div>\n",
              "  </div>\n",
              "  "
            ]
          },
          "metadata": {}
        }
      ]
    },
    {
      "cell_type": "code",
      "source": [
        ""
      ],
      "metadata": {
        "id": "RwyyH7cQ4BP4"
      },
      "execution_count": null,
      "outputs": []
    },
    {
      "cell_type": "code",
      "source": [
        "# menghitung r2 dan RMSE\n",
        "def rsqr_score(test, pred):\n",
        "    \"\"\"Calculate R squared score \n",
        "\n",
        "    Args:\n",
        "        test -- test data\n",
        "        pred -- predicted data\n",
        "\n",
        "    Returns:\n",
        "        R squared score \n",
        "    \"\"\"\n",
        "    r2_ = r2_score(test, pred)\n",
        "    return r2_\n",
        "\n",
        "\n",
        "# RMSE\n",
        "def rmse_score(test, pred):\n",
        "    \"\"\"Calculate Root Mean Square Error score \n",
        "\n",
        "    Args:\n",
        "        test -- test data\n",
        "        pred -- predicted data\n",
        "\n",
        "    Returns:\n",
        "        Root Mean Square Error score\n",
        "    \"\"\"\n",
        "    rmse_ = np.sqrt(mean_squared_error(test, pred))\n",
        "    return rmse_\n",
        "\n",
        "\n",
        "# Print the scores\n",
        "def print_score(test, pred):\n",
        "    \"\"\"Print calculated score \n",
        "\n",
        "    Args:\n",
        "        test -- test data\n",
        "        pred -- predicted data\n",
        "\n",
        "    Returns:\n",
        "        print the regressor name\n",
        "        print the R squared score\n",
        "        print Root Mean Square Error score\n",
        "    \"\"\"\n",
        "\n",
        "    print(f\"R²: {rsqr_score(test, pred)}\")\n",
        "    print(f\"RMSE: {rmse_score(test, pred)}\\n\")"
      ],
      "metadata": {
        "id": "uhDgFFbv4OJ-"
      },
      "execution_count": null,
      "outputs": []
    },
    {
      "cell_type": "code",
      "source": [
        "print_score(y_test, y_pred)"
      ],
      "metadata": {
        "id": "8ejiiWddm96z",
        "colab": {
          "base_uri": "https://localhost:8080/"
        },
        "outputId": "f95d77aa-0f77-4fa6-99c3-1c85521523d8"
      },
      "execution_count": null,
      "outputs": [
        {
          "output_type": "stream",
          "name": "stdout",
          "text": [
            "R²: 0.9727367696636435\n",
            "RMSE: 31.19812999869066\n",
            "\n"
          ]
        }
      ]
    },
    {
      "cell_type": "code",
      "source": [
        ""
      ],
      "metadata": {
        "id": "nqtldxl2n1m1"
      },
      "execution_count": null,
      "outputs": []
    }
  ]
}